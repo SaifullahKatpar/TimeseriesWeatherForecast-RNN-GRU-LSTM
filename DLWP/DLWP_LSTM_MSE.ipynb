{
 "cells": [
  {
   "cell_type": "markdown",
   "metadata": {},
   "source": [
    "# Weather forecast using LSTM\n",
    "\n",
    "Some of interesting models, which are listed below, from the book, **Deep Learning with Python by Francois Chollet** were taken for rerun due to their design for solving time series data. Here, LSTM is used instead of GRU for these models. \n",
    "\n",
    "* Long short-term memory (LSTM)\n",
    "* LSTM with dropouts \n",
    "* Stacking LSTM/GRU layers"
   ]
  },
  {
   "cell_type": "code",
   "execution_count": 1,
   "metadata": {},
   "outputs": [
    {
     "name": "stderr",
     "output_type": "stream",
     "text": [
      "Using TensorFlow backend.\n"
     ]
    },
    {
     "data": {
      "text/plain": [
       "'2.2.4'"
      ]
     },
     "execution_count": 1,
     "metadata": {},
     "output_type": "execute_result"
    }
   ],
   "source": [
    "import os\n",
    "import numpy as np\n",
    "\n",
    "import keras\n",
    "keras.__version__"
   ]
  },
  {
   "cell_type": "code",
   "execution_count": 2,
   "metadata": {},
   "outputs": [],
   "source": [
    "%matplotlib inline\n",
    "import matplotlib as mpl\n",
    "import matplotlib.pyplot as plt\n",
    "import matplotlib.colors as colors\n",
    "\n",
    "import seaborn as sns\n",
    "\n",
    "mpl.rc('axes', labelsize=14)\n",
    "mpl.rc('xtick', labelsize=12)\n",
    "mpl.rc('ytick', labelsize=12)\n",
    "\n",
    "font      = {'family':'arial', 'style':'normal', 'size':18}\n",
    "axis_font = {'family':'arial', 'style':'normal', 'size':18}\n",
    "plt.rc('font', **font)"
   ]
  },
  {
   "cell_type": "markdown",
   "metadata": {},
   "source": [
    "### Data preparation\n",
    "\n",
    "* Data: [jena_climate](https://s3.amazonaws.com/keras-datasets/jena_climate_2009_2016.csv.zip)\n",
    "\n",
    "* This step primarily consists with\n",
    "    1. Loading the downloaded data into numpy array\n",
    "    2. Normalizing the data\n",
    "    3. Creating generator for fitting Keras model"
   ]
  },
  {
   "cell_type": "markdown",
   "metadata": {},
   "source": [
    "### 1. Loading the downloaded data into numpy array"
   ]
  },
  {
   "cell_type": "code",
   "execution_count": 3,
   "metadata": {},
   "outputs": [
    {
     "name": "stdout",
     "output_type": "stream",
     "text": [
      "INFO: # of columns: 15\n",
      "INFO: \"Date Time\", \"p (mbar)\", \"T (degC)\", \"Tpot (K)\", \"Tdew (degC)\", \"rh (%)\", \"VPmax (mbar)\", \"VPact (mbar)\", \"VPdef (mbar)\", \"sh (g/kg)\", \"H2OC (mmol/mol)\", \"rho (g/m**3)\", \"wv (m/s)\", \"max. wv (m/s)\", \"wd (deg)\"\n",
      "INFO: array shape (420552, 14)\n"
     ]
    }
   ],
   "source": [
    "data_dir = '../data'\n",
    "fname = os.path.join(data_dir, 'jena_climate_2009_2016.csv')\n",
    "\n",
    "f = open(fname)\n",
    "data = f.read()\n",
    "f.close()\n",
    "\n",
    "lines = data.split('\\n')\n",
    "header = lines[0].split(',')\n",
    "lines = lines[1:]\n",
    "\n",
    "print(\"INFO: # of columns: {}\".format(len(header)))\n",
    "print(\"INFO: {}\".format(\", \".join(header)))\n",
    "\n",
    "float_data = np.zeros((len(lines), len(header) - 1))\n",
    "for i, line in enumerate(lines):\n",
    "    values = [float(x) for x in line.split(',')[1:]]\n",
    "    #print(\"Coding: \", float_data.shape, len(values))\n",
    "    float_data[i, :len(values)] = values\n",
    "\n",
    "print(\"INFO: array shape {}\".format(float_data.shape))"
   ]
  },
  {
   "cell_type": "markdown",
   "metadata": {},
   "source": [
    "### 2. Normalizing the data"
   ]
  },
  {
   "cell_type": "code",
   "execution_count": 4,
   "metadata": {},
   "outputs": [],
   "source": [
    "mean = float_data[:200000].mean(axis=0)\n",
    "float_data -= mean\n",
    "\n",
    "std = float_data[:200000].std(axis=0)\n",
    "float_data /= std"
   ]
  },
  {
   "cell_type": "markdown",
   "metadata": {},
   "source": [
    "### 3. Creating generator for fitting Keras model"
   ]
  },
  {
   "cell_type": "code",
   "execution_count": 5,
   "metadata": {},
   "outputs": [],
   "source": [
    "def generator(data, lookback, delay, min_index, max_index,\n",
    "              shuffle=False, batch_size=128, step=6):\n",
    "    if max_index is None:\n",
    "        max_index = len(data) - delay - 1\n",
    "    i = min_index + lookback\n",
    "    while 1:\n",
    "        if shuffle:\n",
    "            rows = np.random.randint(\n",
    "                min_index + lookback, max_index, size=batch_size)\n",
    "        else:\n",
    "            if i + batch_size >= max_index:\n",
    "                i = min_index + lookback\n",
    "            rows = np.arange(i, min(i + batch_size, max_index))\n",
    "            i += len(rows)\n",
    "\n",
    "        samples = np.zeros((len(rows),\n",
    "                           lookback // step,\n",
    "                           data.shape[-1]))\n",
    "        targets = np.zeros((len(rows),))\n",
    "        for j, row in enumerate(rows):\n",
    "            indices = range(rows[j] - lookback, rows[j], step)\n",
    "            samples[j] = data[indices]\n",
    "            targets[j] = data[rows[j] + delay][1]\n",
    "        yield samples, targets"
   ]
  },
  {
   "cell_type": "code",
   "execution_count": 6,
   "metadata": {},
   "outputs": [],
   "source": [
    "lookback = 1440\n",
    "step = 6\n",
    "delay = 144\n",
    "batch_size = 128\n",
    "\n",
    "train_gen = generator(float_data,\n",
    "                      lookback=lookback,\n",
    "                      delay=delay,\n",
    "                      min_index=0,\n",
    "                      max_index=200000,\n",
    "                      shuffle=True,\n",
    "                      step=step, \n",
    "                      batch_size=batch_size)\n",
    "val_gen = generator(float_data,\n",
    "                    lookback=lookback,\n",
    "                    delay=delay,\n",
    "                    min_index=200001,\n",
    "                    max_index=300000,\n",
    "                    step=step,\n",
    "                    batch_size=batch_size)\n",
    "test_gen = generator(float_data,\n",
    "                     lookback=lookback,\n",
    "                     delay=delay,\n",
    "                     min_index=300001,\n",
    "                     max_index=None,\n",
    "                     step=step,\n",
    "                     batch_size=batch_size)\n",
    "\n",
    "# This is how many steps to draw from `val_gen`\n",
    "# in order to see the whole validation set:\n",
    "val_steps = (300000 - 200001 - lookback) // batch_size\n",
    "\n",
    "# This is how many steps to draw from `test_gen`\n",
    "# in order to see the whole test set:\n",
    "test_steps = (len(float_data) - 300001 - lookback) // batch_size"
   ]
  },
  {
   "cell_type": "markdown",
   "metadata": {},
   "source": [
    "### Keras Models\n",
    "\n",
    "1. Long short-term memory (LSTM)\n",
    "2. LSTM with dropouts \n",
    "3. Stacking LSTM layers"
   ]
  },
  {
   "cell_type": "markdown",
   "metadata": {},
   "source": [
    "### 1. Long short-term memory (LSTM)"
   ]
  },
  {
   "cell_type": "code",
   "execution_count": 7,
   "metadata": {},
   "outputs": [
    {
     "name": "stdout",
     "output_type": "stream",
     "text": [
      "WARNING:tensorflow:From /Library/Frameworks/Python.framework/Versions/3.6/lib/python3.6/site-packages/tensorflow/python/framework/op_def_library.py:263: colocate_with (from tensorflow.python.framework.ops) is deprecated and will be removed in a future version.\n",
      "Instructions for updating:\n",
      "Colocations handled automatically by placer.\n",
      "_________________________________________________________________\n",
      "Layer (type)                 Output Shape              Param #   \n",
      "=================================================================\n",
      "lstm_1 (LSTM)                (None, 32)                6016      \n",
      "_________________________________________________________________\n",
      "dense_1 (Dense)              (None, 1)                 33        \n",
      "=================================================================\n",
      "Total params: 6,049\n",
      "Trainable params: 6,049\n",
      "Non-trainable params: 0\n",
      "_________________________________________________________________\n",
      "WARNING:tensorflow:From /Library/Frameworks/Python.framework/Versions/3.6/lib/python3.6/site-packages/tensorflow/python/ops/math_ops.py:3066: to_int32 (from tensorflow.python.ops.math_ops) is deprecated and will be removed in a future version.\n",
      "Instructions for updating:\n",
      "Use tf.cast instead.\n",
      "Epoch 1/40\n",
      "500/500 [==============================] - 146s 291ms/step - loss: 0.1585 - val_loss: 0.1220\n",
      "Epoch 2/40\n",
      "500/500 [==============================] - 128s 255ms/step - loss: 0.1196 - val_loss: 0.1238\n",
      "Epoch 3/40\n",
      "500/500 [==============================] - 127s 254ms/step - loss: 0.1091 - val_loss: 0.1280\n",
      "Epoch 4/40\n",
      "500/500 [==============================] - 127s 254ms/step - loss: 0.1012 - val_loss: 0.1396\n",
      "Epoch 5/40\n",
      "500/500 [==============================] - 128s 257ms/step - loss: 0.0961 - val_loss: 0.1410\n",
      "Epoch 6/40\n",
      "500/500 [==============================] - 128s 256ms/step - loss: 0.0902 - val_loss: 0.1433\n",
      "Epoch 7/40\n",
      "500/500 [==============================] - 127s 255ms/step - loss: 0.0852 - val_loss: 0.1443\n",
      "Epoch 8/40\n",
      "500/500 [==============================] - 127s 254ms/step - loss: 0.0817 - val_loss: 0.1541\n",
      "Epoch 9/40\n",
      "500/500 [==============================] - 126s 251ms/step - loss: 0.0790 - val_loss: 0.1520\n",
      "Epoch 10/40\n",
      "500/500 [==============================] - 126s 252ms/step - loss: 0.0748 - val_loss: 0.1511\n",
      "Epoch 11/40\n",
      "500/500 [==============================] - 137s 274ms/step - loss: 0.0724 - val_loss: 0.1536\n",
      "Epoch 12/40\n",
      "500/500 [==============================] - 170s 340ms/step - loss: 0.0681 - val_loss: 0.1561\n",
      "Epoch 13/40\n",
      "500/500 [==============================] - 229s 457ms/step - loss: 0.0676 - val_loss: 0.1573\n",
      "Epoch 14/40\n",
      "500/500 [==============================] - 162s 324ms/step - loss: 0.0634 - val_loss: 0.1629\n",
      "Epoch 15/40\n",
      "500/500 [==============================] - 128s 256ms/step - loss: 0.0622 - val_loss: 0.1642\n",
      "Epoch 16/40\n",
      "500/500 [==============================] - 128s 256ms/step - loss: 0.0600 - val_loss: 0.1683\n",
      "Epoch 17/40\n",
      "500/500 [==============================] - 128s 257ms/step - loss: 0.0570 - val_loss: 0.1701\n",
      "Epoch 18/40\n",
      "500/500 [==============================] - 130s 259ms/step - loss: 0.0562 - val_loss: 0.1649\n",
      "Epoch 19/40\n",
      "500/500 [==============================] - 143s 285ms/step - loss: 0.0541 - val_loss: 0.1721\n",
      "Epoch 20/40\n",
      "500/500 [==============================] - 137s 274ms/step - loss: 0.0529 - val_loss: 0.1770\n",
      "Epoch 21/40\n",
      "500/500 [==============================] - 139s 278ms/step - loss: 0.0512 - val_loss: 0.1681\n",
      "Epoch 22/40\n",
      "500/500 [==============================] - 137s 274ms/step - loss: 0.0490 - val_loss: 0.1749\n",
      "Epoch 23/40\n",
      "500/500 [==============================] - 137s 274ms/step - loss: 0.0476 - val_loss: 0.1780\n",
      "Epoch 24/40\n",
      "500/500 [==============================] - 146s 291ms/step - loss: 0.0481 - val_loss: 0.1799\n",
      "Epoch 25/40\n",
      "500/500 [==============================] - 138s 276ms/step - loss: 0.0463 - val_loss: 0.1853\n",
      "Epoch 26/40\n",
      "500/500 [==============================] - 125s 250ms/step - loss: 0.0449 - val_loss: 0.1753\n",
      "Epoch 27/40\n",
      "500/500 [==============================] - 129s 257ms/step - loss: 0.0434 - val_loss: 0.1841\n",
      "Epoch 28/40\n",
      "500/500 [==============================] - 130s 259ms/step - loss: 0.0428 - val_loss: 0.1817\n",
      "Epoch 29/40\n",
      "500/500 [==============================] - 126s 253ms/step - loss: 0.0428 - val_loss: 0.1803\n",
      "Epoch 30/40\n",
      "500/500 [==============================] - 131s 263ms/step - loss: 0.0424 - val_loss: 0.1812\n",
      "Epoch 31/40\n",
      "500/500 [==============================] - 126s 251ms/step - loss: 0.0406 - val_loss: 0.1821\n",
      "Epoch 32/40\n",
      "500/500 [==============================] - 126s 252ms/step - loss: 0.0396 - val_loss: 0.1821\n",
      "Epoch 33/40\n",
      "500/500 [==============================] - 125s 251ms/step - loss: 0.0403 - val_loss: 0.1776\n",
      "Epoch 34/40\n",
      "500/500 [==============================] - 126s 252ms/step - loss: 0.0395 - val_loss: 0.1821\n",
      "Epoch 35/40\n",
      "500/500 [==============================] - 127s 254ms/step - loss: 0.0396 - val_loss: 0.1796\n",
      "Epoch 36/40\n",
      "500/500 [==============================] - 125s 250ms/step - loss: 0.0388 - val_loss: 0.1977\n",
      "Epoch 37/40\n",
      "500/500 [==============================] - 125s 251ms/step - loss: 0.0377 - val_loss: 0.1794\n",
      "Epoch 38/40\n",
      "500/500 [==============================] - 124s 249ms/step - loss: 0.0374 - val_loss: 0.1877\n",
      "Epoch 39/40\n",
      "500/500 [==============================] - 125s 250ms/step - loss: 0.0367 - val_loss: 0.1860\n",
      "Epoch 40/40\n",
      "500/500 [==============================] - 126s 251ms/step - loss: 0.0360 - val_loss: 0.1843\n"
     ]
    }
   ],
   "source": [
    "from keras.models import Sequential\n",
    "from keras import layers\n",
    "from keras.optimizers import RMSprop\n",
    "\n",
    "model = Sequential()\n",
    "model.add(layers.LSTM(32, input_shape=(None, float_data.shape[-1])))\n",
    "model.add(layers.Dense(1))\n",
    "\n",
    "model.compile(optimizer=RMSprop(), loss='mse')\n",
    "model.summary()\n",
    "loss_history_1 = model.fit_generator(train_gen,\n",
    "                                          steps_per_epoch=500,\n",
    "                                          epochs=40,\n",
    "                                          validation_data=val_gen,\n",
    "                                          validation_steps=val_steps)"
   ]
  },
  {
   "cell_type": "code",
   "execution_count": 8,
   "metadata": {},
   "outputs": [
    {
     "data": {
      "image/png": "[encoded data removed]",
      "text/plain": [
       "<Figure size 720x360 with 1 Axes>"
      ]
     },
     "metadata": {
      "needs_background": "light"
     },
     "output_type": "display_data"
    }
   ],
   "source": [
    "ts_tra_loss = loss_history_1.history['loss']\n",
    "ts_val_loss = loss_history_1.history['val_loss']\n",
    "\n",
    "ts_in_epochs = np.arange(0, len(ts_tra_loss))\n",
    "fig = plt.figure(figsize=(10, 5))\n",
    "\n",
    "plt.plot(ts_in_epochs, ts_tra_loss, 's-', color=\"k\", label='Training loss')\n",
    "plt.plot(ts_in_epochs, ts_val_loss, '^-', color=\"b\", label='Validation loss')\n",
    "\n",
    "ts_xlabels = np.arange(0, len(ts_in_epochs), 5)\n",
    "plt.xticks(ts_xlabels, ts_xlabels, fontsize=14)\n",
    "\n",
    "plt.xlabel(\"Epochs\", axis_font)\n",
    "plt.ylabel(\"Losses\", axis_font)\n",
    "plt.legend(ncol=2, frameon=False, fontsize=14)\n",
    "\n",
    "plt.show()"
   ]
  },
  {
   "cell_type": "markdown",
   "metadata": {},
   "source": [
    "### 2. LSTM with dropouts "
   ]
  },
  {
   "cell_type": "code",
   "execution_count": 9,
   "metadata": {},
   "outputs": [
    {
     "name": "stdout",
     "output_type": "stream",
     "text": [
      "WARNING:tensorflow:From /Library/Frameworks/Python.framework/Versions/3.6/lib/python3.6/site-packages/keras/backend/tensorflow_backend.py:3445: calling dropout (from tensorflow.python.ops.nn_ops) with keep_prob is deprecated and will be removed in a future version.\n",
      "Instructions for updating:\n",
      "Please use `rate` instead of `keep_prob`. Rate should be set to `rate = 1 - keep_prob`.\n",
      "_________________________________________________________________\n",
      "Layer (type)                 Output Shape              Param #   \n",
      "=================================================================\n",
      "lstm_2 (LSTM)                (None, 32)                6016      \n",
      "_________________________________________________________________\n",
      "dense_2 (Dense)              (None, 1)                 33        \n",
      "=================================================================\n",
      "Total params: 6,049\n",
      "Trainable params: 6,049\n",
      "Non-trainable params: 0\n",
      "_________________________________________________________________\n",
      "Epoch 1/40\n",
      "500/500 [==============================] - 146s 293ms/step - loss: 0.1927 - val_loss: 0.1255\n",
      "Epoch 2/40\n",
      "500/500 [==============================] - 147s 293ms/step - loss: 0.1513 - val_loss: 0.1217\n",
      "Epoch 3/40\n",
      "500/500 [==============================] - 146s 292ms/step - loss: 0.1457 - val_loss: 0.1194\n",
      "Epoch 4/40\n",
      "500/500 [==============================] - 146s 293ms/step - loss: 0.1416 - val_loss: 0.1209\n",
      "Epoch 5/40\n",
      "500/500 [==============================] - 145s 290ms/step - loss: 0.1377 - val_loss: 0.1204\n",
      "Epoch 6/40\n",
      "500/500 [==============================] - 146s 293ms/step - loss: 0.1346 - val_loss: 0.1187\n",
      "Epoch 7/40\n",
      "500/500 [==============================] - 146s 293ms/step - loss: 0.1341 - val_loss: 0.1210\n",
      "Epoch 8/40\n",
      "500/500 [==============================] - 147s 294ms/step - loss: 0.1324 - val_loss: 0.1190\n",
      "Epoch 9/40\n",
      "500/500 [==============================] - 147s 295ms/step - loss: 0.1300 - val_loss: 0.1203\n",
      "Epoch 10/40\n",
      "500/500 [==============================] - 146s 292ms/step - loss: 0.1286 - val_loss: 0.1182\n",
      "Epoch 11/40\n",
      "500/500 [==============================] - 146s 291ms/step - loss: 0.1279 - val_loss: 0.1201\n",
      "Epoch 12/40\n",
      "500/500 [==============================] - 146s 293ms/step - loss: 0.1257 - val_loss: 0.1232\n",
      "Epoch 13/40\n",
      "500/500 [==============================] - 146s 292ms/step - loss: 0.1243 - val_loss: 0.1221\n",
      "Epoch 14/40\n",
      "500/500 [==============================] - 147s 293ms/step - loss: 0.1234 - val_loss: 0.1241\n",
      "Epoch 15/40\n",
      "500/500 [==============================] - 147s 294ms/step - loss: 0.1230 - val_loss: 0.1229\n",
      "Epoch 16/40\n",
      "500/500 [==============================] - 148s 297ms/step - loss: 0.1228 - val_loss: 0.1219\n",
      "Epoch 17/40\n",
      "500/500 [==============================] - 147s 294ms/step - loss: 0.1206 - val_loss: 0.1214\n",
      "Epoch 18/40\n",
      "500/500 [==============================] - 147s 294ms/step - loss: 0.1198 - val_loss: 0.1226\n",
      "Epoch 19/40\n",
      "500/500 [==============================] - 146s 292ms/step - loss: 0.1194 - val_loss: 0.1241\n",
      "Epoch 20/40\n",
      "500/500 [==============================] - 147s 293ms/step - loss: 0.1171 - val_loss: 0.1294\n",
      "Epoch 21/40\n",
      "500/500 [==============================] - 146s 293ms/step - loss: 0.1167 - val_loss: 0.1292\n",
      "Epoch 22/40\n",
      "500/500 [==============================] - 147s 295ms/step - loss: 0.1162 - val_loss: 0.1238\n",
      "Epoch 23/40\n",
      "500/500 [==============================] - 146s 292ms/step - loss: 0.1144 - val_loss: 0.1259\n",
      "Epoch 24/40\n",
      "500/500 [==============================] - 147s 294ms/step - loss: 0.1152 - val_loss: 0.1275\n",
      "Epoch 25/40\n",
      "500/500 [==============================] - 148s 296ms/step - loss: 0.1133 - val_loss: 0.1289\n",
      "Epoch 26/40\n",
      "500/500 [==============================] - 144s 288ms/step - loss: 0.1136 - val_loss: 0.1289\n",
      "Epoch 27/40\n",
      "500/500 [==============================] - 143s 285ms/step - loss: 0.1116 - val_loss: 0.1292\n",
      "Epoch 28/40\n",
      "500/500 [==============================] - 144s 289ms/step - loss: 0.1127 - val_loss: 0.1307\n",
      "Epoch 29/40\n",
      "500/500 [==============================] - 143s 286ms/step - loss: 0.1123 - val_loss: 0.1301\n",
      "Epoch 30/40\n",
      "500/500 [==============================] - 144s 288ms/step - loss: 0.1102 - val_loss: 0.1325\n",
      "Epoch 31/40\n",
      "500/500 [==============================] - 144s 288ms/step - loss: 0.1089 - val_loss: 0.1281\n",
      "Epoch 32/40\n",
      "500/500 [==============================] - 143s 285ms/step - loss: 0.1106 - val_loss: 0.1287\n",
      "Epoch 33/40\n",
      "500/500 [==============================] - 141s 282ms/step - loss: 0.1099 - val_loss: 0.1291\n",
      "Epoch 34/40\n",
      "500/500 [==============================] - 140s 281ms/step - loss: 0.1083 - val_loss: 0.1305\n",
      "Epoch 35/40\n",
      "500/500 [==============================] - 141s 281ms/step - loss: 0.1084 - val_loss: 0.1313\n",
      "Epoch 36/40\n",
      "500/500 [==============================] - 141s 281ms/step - loss: 0.1077 - val_loss: 0.1308\n",
      "Epoch 37/40\n",
      "500/500 [==============================] - 142s 283ms/step - loss: 0.1074 - val_loss: 0.1323\n",
      "Epoch 38/40\n",
      "500/500 [==============================] - 141s 282ms/step - loss: 0.1081 - val_loss: 0.1284\n",
      "Epoch 39/40\n",
      "500/500 [==============================] - 142s 284ms/step - loss: 0.1082 - val_loss: 0.1334\n",
      "Epoch 40/40\n",
      "500/500 [==============================] - 143s 285ms/step - loss: 0.1075 - val_loss: 0.1294\n"
     ]
    }
   ],
   "source": [
    "from keras.models import Sequential\n",
    "from keras import layers\n",
    "from keras.optimizers import RMSprop\n",
    "\n",
    "drop_model = Sequential()\n",
    "drop_model.add(layers.LSTM(32,\n",
    "                     dropout=0.2,\n",
    "                     recurrent_dropout=0.2,\n",
    "                     input_shape=(None, float_data.shape[-1])))\n",
    "drop_model.add(layers.Dense(1))\n",
    "\n",
    "drop_model.compile(optimizer=RMSprop(), loss='mse')\n",
    "drop_model.summary()\n",
    "loss_history_2 = drop_model.fit_generator(train_gen,\n",
    "                                              steps_per_epoch=500,\n",
    "                                              epochs=40,\n",
    "                                              validation_data=val_gen,\n",
    "                                              validation_steps=val_steps)"
   ]
  },
  {
   "cell_type": "code",
   "execution_count": 10,
   "metadata": {
    "scrolled": true
   },
   "outputs": [
    {
     "data": {
      "image/png": "[encoded data removed]",
      "text/plain": [
       "<Figure size 720x360 with 1 Axes>"
      ]
     },
     "metadata": {
      "needs_background": "light"
     },
     "output_type": "display_data"
    }
   ],
   "source": [
    "ts_tra_loss = loss_history_2.history['loss']\n",
    "ts_val_loss = loss_history_2.history['val_loss']\n",
    "\n",
    "ts_in_epochs = np.arange(0, len(ts_tra_loss))\n",
    "fig = plt.figure(figsize=(10, 5))\n",
    "\n",
    "plt.plot(ts_in_epochs, ts_tra_loss, 's-', color=\"k\", label='Training loss')\n",
    "plt.plot(ts_in_epochs, ts_val_loss, '^-', color=\"b\", label='Validation loss')\n",
    "\n",
    "ts_xlabels = np.arange(0, len(ts_in_epochs), 5)\n",
    "plt.xticks(ts_xlabels, ts_xlabels, fontsize=14)\n",
    "\n",
    "plt.xlabel(\"Epochs\", axis_font)\n",
    "plt.ylabel(\"Losses\", axis_font)\n",
    "plt.legend(ncol=2, frameon=False, fontsize=14)\n",
    "\n",
    "plt.show()"
   ]
  },
  {
   "cell_type": "markdown",
   "metadata": {},
   "source": [
    "### 3. Stacking LSTM/GRU layers"
   ]
  },
  {
   "cell_type": "code",
   "execution_count": 14,
   "metadata": {},
   "outputs": [
    {
     "name": "stdout",
     "output_type": "stream",
     "text": [
      "Epoch 1/40\n",
      "500/500 [==============================] - 337s 675ms/step - loss: 0.1995 - val_loss: 0.1264\n",
      "Epoch 2/40\n",
      "500/500 [==============================] - 331s 661ms/step - loss: 0.1601 - val_loss: 0.1248\n",
      "Epoch 3/40\n",
      "500/500 [==============================] - 330s 660ms/step - loss: 0.1499 - val_loss: 0.1173\n",
      "Epoch 4/40\n",
      "500/500 [==============================] - 328s 656ms/step - loss: 0.1435 - val_loss: 0.1149\n",
      "Epoch 5/40\n",
      "500/500 [==============================] - 328s 655ms/step - loss: 0.1415 - val_loss: 0.1187\n",
      "Epoch 6/40\n",
      "500/500 [==============================] - 331s 662ms/step - loss: 0.1370 - val_loss: 0.1203\n",
      "Epoch 7/40\n",
      "500/500 [==============================] - 379s 759ms/step - loss: 0.1339 - val_loss: 0.1167\n",
      "Epoch 8/40\n",
      "500/500 [==============================] - 419s 838ms/step - loss: 0.1290 - val_loss: 0.1142\n",
      "Epoch 9/40\n",
      "500/500 [==============================] - 427s 854ms/step - loss: 0.1267 - val_loss: 0.1174\n",
      "Epoch 10/40\n",
      "500/500 [==============================] - 407s 813ms/step - loss: 0.1238 - val_loss: 0.1133\n",
      "Epoch 11/40\n",
      "500/500 [==============================] - 360s 720ms/step - loss: 0.1216 - val_loss: 0.1179\n",
      "Epoch 12/40\n",
      "500/500 [==============================] - 341s 682ms/step - loss: 0.1205 - val_loss: 0.1171\n",
      "Epoch 13/40\n",
      "500/500 [==============================] - 366s 733ms/step - loss: 0.1186 - val_loss: 0.1180\n",
      "Epoch 14/40\n",
      "500/500 [==============================] - 332s 664ms/step - loss: 0.1156 - val_loss: 0.1138\n",
      "Epoch 15/40\n",
      "500/500 [==============================] - 335s 671ms/step - loss: 0.1132 - val_loss: 0.1177\n",
      "Epoch 16/40\n",
      "500/500 [==============================] - 332s 665ms/step - loss: 0.1129 - val_loss: 0.1224\n",
      "Epoch 17/40\n",
      "500/500 [==============================] - 332s 665ms/step - loss: 0.1110 - val_loss: 0.1242\n",
      "Epoch 18/40\n",
      "500/500 [==============================] - 332s 664ms/step - loss: 0.1101 - val_loss: 0.1190\n",
      "Epoch 19/40\n",
      "500/500 [==============================] - 329s 659ms/step - loss: 0.1084 - val_loss: 0.1258\n",
      "Epoch 20/40\n",
      "500/500 [==============================] - 338s 677ms/step - loss: 0.1068 - val_loss: 0.1225\n",
      "Epoch 21/40\n",
      "500/500 [==============================] - 383s 765ms/step - loss: 0.1051 - val_loss: 0.1227\n",
      "Epoch 22/40\n",
      "500/500 [==============================] - 351s 701ms/step - loss: 0.1034 - val_loss: 0.1221\n",
      "Epoch 23/40\n",
      "500/500 [==============================] - 348s 695ms/step - loss: 0.1029 - val_loss: 0.1308\n",
      "Epoch 24/40\n",
      "500/500 [==============================] - 345s 690ms/step - loss: 0.1021 - val_loss: 0.1285\n",
      "Epoch 25/40\n",
      "500/500 [==============================] - 357s 714ms/step - loss: 0.1018 - val_loss: 0.1269\n",
      "Epoch 26/40\n",
      "500/500 [==============================] - 362s 725ms/step - loss: 0.0995 - val_loss: 0.1274\n",
      "Epoch 27/40\n",
      "500/500 [==============================] - 332s 665ms/step - loss: 0.0984 - val_loss: 0.1287\n",
      "Epoch 28/40\n",
      "500/500 [==============================] - 347s 694ms/step - loss: 0.0975 - val_loss: 0.1265\n",
      "Epoch 29/40\n",
      "500/500 [==============================] - 342s 684ms/step - loss: 0.0970 - val_loss: 0.1234\n",
      "Epoch 30/40\n",
      "500/500 [==============================] - 338s 675ms/step - loss: 0.0968 - val_loss: 0.1307\n",
      "Epoch 31/40\n",
      "500/500 [==============================] - 359s 719ms/step - loss: 0.0953 - val_loss: 0.1299\n",
      "Epoch 32/40\n",
      "500/500 [==============================] - 336s 672ms/step - loss: 0.0948 - val_loss: 0.1264\n",
      "Epoch 33/40\n",
      "500/500 [==============================] - 390s 779ms/step - loss: 0.0940 - val_loss: 0.1295\n",
      "Epoch 34/40\n",
      "500/500 [==============================] - 488s 976ms/step - loss: 0.0933 - val_loss: 0.1285\n",
      "Epoch 35/40\n",
      "500/500 [==============================] - 356s 713ms/step - loss: 0.0924 - val_loss: 0.1281\n",
      "Epoch 36/40\n",
      "500/500 [==============================] - 348s 696ms/step - loss: 0.0909 - val_loss: 0.1314\n",
      "Epoch 37/40\n",
      "500/500 [==============================] - 333s 665ms/step - loss: 0.0915 - val_loss: 0.1319\n",
      "Epoch 38/40\n",
      "500/500 [==============================] - 328s 656ms/step - loss: 0.0901 - val_loss: 0.1293\n",
      "Epoch 39/40\n",
      "500/500 [==============================] - 329s 659ms/step - loss: 0.0889 - val_loss: 0.1304\n",
      "Epoch 40/40\n",
      "500/500 [==============================] - 329s 658ms/step - loss: 0.0888 - val_loss: 0.1366\n"
     ]
    }
   ],
   "source": [
    "# stacking recurrent layers\n",
    "\n",
    "from keras.models import Sequential\n",
    "from keras import layers\n",
    "from keras.optimizers import RMSprop\n",
    "\n",
    "stack_drop_model = Sequential()\n",
    "stack_drop_model.add(layers.LSTM(32,\n",
    "                     dropout=0.1,\n",
    "                     recurrent_dropout=0.5,\n",
    "                     return_sequences=True,\n",
    "                     input_shape=(None, float_data.shape[-1])))\n",
    "stack_drop_model.add(layers.LSTM(64, activation='tanh',\n",
    "                     dropout=0.1, \n",
    "                     recurrent_dropout=0.5))\n",
    "stack_drop_model.add(layers.Dense(1))\n",
    "\n",
    "stack_drop_model.compile(optimizer=RMSprop(), loss='mse')\n",
    "loss_history_3 = stack_drop_model.fit_generator(train_gen,\n",
    "                                                  steps_per_epoch=500,\n",
    "                                                  epochs=40,\n",
    "                                                  validation_data=val_gen,\n",
    "                                                  validation_steps=val_steps)"
   ]
  },
  {
   "cell_type": "code",
   "execution_count": 15,
   "metadata": {},
   "outputs": [
    {
     "data": {
      "image/png": "[encoded data removed]",
      "text/plain": [
       "<Figure size 720x360 with 1 Axes>"
      ]
     },
     "metadata": {
      "needs_background": "light"
     },
     "output_type": "display_data"
    }
   ],
   "source": [
    "ts_tra_loss = loss_history_3.history['loss']\n",
    "ts_val_loss = loss_history_3.history['val_loss']\n",
    "\n",
    "ts_in_epochs = np.arange(0, len(ts_tra_loss))\n",
    "fig = plt.figure(figsize=(10, 5))\n",
    "\n",
    "plt.plot(ts_in_epochs, ts_tra_loss, 's-', color=\"k\", label='Training loss')\n",
    "plt.plot(ts_in_epochs, ts_val_loss, '^-', color=\"b\", label='Validation loss')\n",
    "\n",
    "ts_xlabels = np.arange(0, len(ts_in_epochs), 5)\n",
    "plt.xticks(ts_xlabels, ts_xlabels, fontsize=14)\n",
    "\n",
    "plt.xlabel(\"Epochs\", axis_font)\n",
    "plt.ylabel(\"Losses\", axis_font)\n",
    "plt.legend(ncol=2, frameon=False, fontsize=14)\n",
    "\n",
    "plt.show()"
   ]
  },
  {
   "cell_type": "code",
   "execution_count": 16,
   "metadata": {},
   "outputs": [
    {
     "name": "stdout",
     "output_type": "stream",
     "text": [
      "INFO: LSTM: 0.212\n",
      "INFO: LSTM with drop: 0.136\n",
      "INFO: Stack LSTM with drop: 0.151\n"
     ]
    }
   ],
   "source": [
    "fo_model = model.evaluate_generator(test_gen, test_steps)\n",
    "print(\"INFO: LSTM: %5.3f\" %fo_model)\n",
    "fo_model = drop_model.evaluate_generator(test_gen, test_steps)\n",
    "print(\"INFO: LSTM with drop: %5.3f\" %fo_model)\n",
    "fo_model = stack_drop_model.evaluate_generator(test_gen, test_steps)\n",
    "print(\"INFO: Stack LSTM with drop: %5.3f\" %fo_model)"
   ]
  },
  {
   "cell_type": "markdown",
   "metadata": {},
   "source": [
    "### Summary\n",
    "\n",
    "Simply, an idea is to obtain the better model using LSTM than its counterpart previously used [GRU](). Appraently, indistinguishable result is achieved while testing in a different dataset."
   ]
  }
 ],
 "metadata": {
  "kernelspec": {
   "display_name": "Python 3",
   "language": "python",
   "name": "python3"
  },
  "language_info": {
   "codemirror_mode": {
    "name": "ipython",
    "version": 3
   },
   "file_extension": ".py",
   "mimetype": "text/x-python",
   "name": "python",
   "nbconvert_exporter": "python",
   "pygments_lexer": "ipython3",
   "version": "3.6.0"
  }
 },
 "nbformat": 4,
 "nbformat_minor": 2
}
