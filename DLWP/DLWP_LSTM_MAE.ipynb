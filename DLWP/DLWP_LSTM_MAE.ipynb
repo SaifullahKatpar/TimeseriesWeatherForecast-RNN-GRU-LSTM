{
 "cells": [
  {
   "cell_type": "markdown",
   "metadata": {},
   "source": [
    "# Weather forecast using LSTM\n",
    "\n",
    "Some of interesting models, which are listed below, from the book, **Deep Learning with Python by Francois Chollet** were taken for rerun due to their design for solving time series data. Here, LSTM is used instead of GRU for these models. \n",
    "\n",
    "* Long short-term memory (LSTM)\n",
    "* LSTM with dropouts \n",
    "* Stacking LSTM/GRU layers"
   ]
  },
  {
   "cell_type": "code",
   "execution_count": 1,
   "metadata": {},
   "outputs": [
    {
     "name": "stderr",
     "output_type": "stream",
     "text": [
      "Using TensorFlow backend.\n"
     ]
    },
    {
     "data": {
      "text/plain": [
       "'2.2.4'"
      ]
     },
     "execution_count": 1,
     "metadata": {},
     "output_type": "execute_result"
    }
   ],
   "source": [
    "import os\n",
    "import numpy as np\n",
    "\n",
    "import keras\n",
    "keras.__version__"
   ]
  },
  {
   "cell_type": "code",
   "execution_count": 2,
   "metadata": {},
   "outputs": [],
   "source": [
    "%matplotlib inline\n",
    "import matplotlib as mpl\n",
    "import matplotlib.pyplot as plt\n",
    "import matplotlib.colors as colors\n",
    "\n",
    "import seaborn as sns\n",
    "\n",
    "mpl.rc('axes', labelsize=14)\n",
    "mpl.rc('xtick', labelsize=12)\n",
    "mpl.rc('ytick', labelsize=12)\n",
    "\n",
    "font      = {'family':'arial', 'style':'normal', 'size':18}\n",
    "axis_font = {'family':'arial', 'style':'normal', 'size':18}\n",
    "plt.rc('font', **font)"
   ]
  },
  {
   "cell_type": "markdown",
   "metadata": {},
   "source": [
    "### Data preparation\n",
    "\n",
    "* Data: [jena_climate](https://s3.amazonaws.com/keras-datasets/jena_climate_2009_2016.csv.zip)\n",
    "\n",
    "* This step primarily consists with\n",
    "    1. Loading the downloaded data into numpy array\n",
    "    2. Normalizing the data\n",
    "    3. Creating generator for fitting Keras model"
   ]
  },
  {
   "cell_type": "markdown",
   "metadata": {},
   "source": [
    "### 1. Loading the downloaded data into numpy array"
   ]
  },
  {
   "cell_type": "code",
   "execution_count": 3,
   "metadata": {},
   "outputs": [
    {
     "name": "stdout",
     "output_type": "stream",
     "text": [
      "INFO: # of columns: 15\n",
      "INFO: \"Date Time\", \"p (mbar)\", \"T (degC)\", \"Tpot (K)\", \"Tdew (degC)\", \"rh (%)\", \"VPmax (mbar)\", \"VPact (mbar)\", \"VPdef (mbar)\", \"sh (g/kg)\", \"H2OC (mmol/mol)\", \"rho (g/m**3)\", \"wv (m/s)\", \"max. wv (m/s)\", \"wd (deg)\"\n",
      "INFO: array shape (420552, 14)\n"
     ]
    }
   ],
   "source": [
    "data_dir = '../data'\n",
    "fname = os.path.join(data_dir, 'jena_climate_2009_2016.csv')\n",
    "\n",
    "f = open(fname)\n",
    "data = f.read()\n",
    "f.close()\n",
    "\n",
    "lines = data.split('\\n')\n",
    "header = lines[0].split(',')\n",
    "lines = lines[1:]\n",
    "\n",
    "print(\"INFO: # of columns: {}\".format(len(header)))\n",
    "print(\"INFO: {}\".format(\", \".join(header)))\n",
    "\n",
    "float_data = np.zeros((len(lines), len(header) - 1))\n",
    "for i, line in enumerate(lines):\n",
    "    values = [float(x) for x in line.split(',')[1:]]\n",
    "    #print(\"Coding: \", float_data.shape, len(values))\n",
    "    float_data[i, :len(values)] = values\n",
    "\n",
    "print(\"INFO: array shape {}\".format(float_data.shape))"
   ]
  },
  {
   "cell_type": "markdown",
   "metadata": {},
   "source": [
    "### 2. Normalizing the data"
   ]
  },
  {
   "cell_type": "code",
   "execution_count": 4,
   "metadata": {},
   "outputs": [],
   "source": [
    "mean = float_data[:200000].mean(axis=0)\n",
    "float_data -= mean\n",
    "\n",
    "std = float_data[:200000].std(axis=0)\n",
    "float_data /= std"
   ]
  },
  {
   "cell_type": "markdown",
   "metadata": {},
   "source": [
    "### 3. Creating generator for fitting Keras model"
   ]
  },
  {
   "cell_type": "code",
   "execution_count": 5,
   "metadata": {},
   "outputs": [],
   "source": [
    "def generator(data, lookback, delay, min_index, max_index,\n",
    "              shuffle=False, batch_size=128, step=6):\n",
    "    if max_index is None:\n",
    "        max_index = len(data) - delay - 1\n",
    "    i = min_index + lookback\n",
    "    while 1:\n",
    "        if shuffle:\n",
    "            rows = np.random.randint(\n",
    "                min_index + lookback, max_index, size=batch_size)\n",
    "        else:\n",
    "            if i + batch_size >= max_index:\n",
    "                i = min_index + lookback\n",
    "            rows = np.arange(i, min(i + batch_size, max_index))\n",
    "            i += len(rows)\n",
    "\n",
    "        samples = np.zeros((len(rows),\n",
    "                           lookback // step,\n",
    "                           data.shape[-1]))\n",
    "        targets = np.zeros((len(rows),))\n",
    "        for j, row in enumerate(rows):\n",
    "            indices = range(rows[j] - lookback, rows[j], step)\n",
    "            samples[j] = data[indices]\n",
    "            targets[j] = data[rows[j] + delay][1]\n",
    "        yield samples, targets"
   ]
  },
  {
   "cell_type": "code",
   "execution_count": 6,
   "metadata": {},
   "outputs": [],
   "source": [
    "lookback = 1440\n",
    "step = 6\n",
    "delay = 144\n",
    "batch_size = 128\n",
    "\n",
    "train_gen = generator(float_data,\n",
    "                      lookback=lookback,\n",
    "                      delay=delay,\n",
    "                      min_index=0,\n",
    "                      max_index=200000,\n",
    "                      shuffle=True,\n",
    "                      step=step, \n",
    "                      batch_size=batch_size)\n",
    "val_gen = generator(float_data,\n",
    "                    lookback=lookback,\n",
    "                    delay=delay,\n",
    "                    min_index=200001,\n",
    "                    max_index=300000,\n",
    "                    step=step,\n",
    "                    batch_size=batch_size)\n",
    "test_gen = generator(float_data,\n",
    "                     lookback=lookback,\n",
    "                     delay=delay,\n",
    "                     min_index=300001,\n",
    "                     max_index=None,\n",
    "                     step=step,\n",
    "                     batch_size=batch_size)\n",
    "\n",
    "# This is how many steps to draw from `val_gen`\n",
    "# in order to see the whole validation set:\n",
    "val_steps = (300000 - 200001 - lookback) // batch_size\n",
    "\n",
    "# This is how many steps to draw from `test_gen`\n",
    "# in order to see the whole test set:\n",
    "test_steps = (len(float_data) - 300001 - lookback) // batch_size"
   ]
  },
  {
   "cell_type": "markdown",
   "metadata": {},
   "source": [
    "### Keras Models\n",
    "\n",
    "1. Long short-term memory (LSTM)\n",
    "2. LSTM with dropouts \n",
    "3. Stacking LSTM layers"
   ]
  },
  {
   "cell_type": "markdown",
   "metadata": {},
   "source": [
    "### 1. Long short-term memory (LSTM)"
   ]
  },
  {
   "cell_type": "code",
   "execution_count": 7,
   "metadata": {},
   "outputs": [
    {
     "name": "stdout",
     "output_type": "stream",
     "text": [
      "WARNING:tensorflow:From /Library/Frameworks/Python.framework/Versions/3.6/lib/python3.6/site-packages/tensorflow/python/framework/op_def_library.py:263: colocate_with (from tensorflow.python.framework.ops) is deprecated and will be removed in a future version.\n",
      "Instructions for updating:\n",
      "Colocations handled automatically by placer.\n",
      "_________________________________________________________________\n",
      "Layer (type)                 Output Shape              Param #   \n",
      "=================================================================\n",
      "lstm_1 (LSTM)                (None, 32)                6016      \n",
      "_________________________________________________________________\n",
      "dense_1 (Dense)              (None, 1)                 33        \n",
      "=================================================================\n",
      "Total params: 6,049\n",
      "Trainable params: 6,049\n",
      "Non-trainable params: 0\n",
      "_________________________________________________________________\n",
      "WARNING:tensorflow:From /Library/Frameworks/Python.framework/Versions/3.6/lib/python3.6/site-packages/tensorflow/python/ops/math_ops.py:3066: to_int32 (from tensorflow.python.ops.math_ops) is deprecated and will be removed in a future version.\n",
      "Instructions for updating:\n",
      "Use tf.cast instead.\n",
      "Epoch 1/40\n",
      "500/500 [==============================] - 130s 261ms/step - loss: 0.3137 - val_loss: 0.2725\n",
      "Epoch 2/40\n",
      "500/500 [==============================] - 126s 253ms/step - loss: 0.2782 - val_loss: 0.2711\n",
      "Epoch 3/40\n",
      "500/500 [==============================] - 124s 248ms/step - loss: 0.2649 - val_loss: 0.2750\n",
      "Epoch 4/40\n",
      "500/500 [==============================] - 122s 245ms/step - loss: 0.2546 - val_loss: 0.2785\n",
      "Epoch 5/40\n",
      "500/500 [==============================] - 123s 246ms/step - loss: 0.2459 - val_loss: 0.2845\n",
      "Epoch 6/40\n",
      "500/500 [==============================] - 123s 247ms/step - loss: 0.2401 - val_loss: 0.2914\n",
      "Epoch 7/40\n",
      "500/500 [==============================] - 138s 277ms/step - loss: 0.2326 - val_loss: 0.2932\n",
      "Epoch 8/40\n",
      "500/500 [==============================] - 133s 266ms/step - loss: 0.2261 - val_loss: 0.2975\n",
      "Epoch 9/40\n",
      "500/500 [==============================] - 123s 246ms/step - loss: 0.2197 - val_loss: 0.3008\n",
      "Epoch 10/40\n",
      "500/500 [==============================] - 130s 260ms/step - loss: 0.2144 - val_loss: 0.3031\n",
      "Epoch 11/40\n",
      "500/500 [==============================] - 129s 258ms/step - loss: 0.2109 - val_loss: 0.2991\n",
      "Epoch 12/40\n",
      "500/500 [==============================] - 121s 242ms/step - loss: 0.2062 - val_loss: 0.3088\n",
      "Epoch 13/40\n",
      "500/500 [==============================] - 137s 273ms/step - loss: 0.2014 - val_loss: 0.3124\n",
      "Epoch 14/40\n",
      "500/500 [==============================] - 126s 252ms/step - loss: 0.1985 - val_loss: 0.3115\n",
      "Epoch 15/40\n",
      "500/500 [==============================] - 122s 243ms/step - loss: 0.1966 - val_loss: 0.3150\n",
      "Epoch 16/40\n",
      "500/500 [==============================] - 123s 245ms/step - loss: 0.1908 - val_loss: 0.3138\n",
      "Epoch 17/40\n",
      "500/500 [==============================] - 121s 243ms/step - loss: 0.1893 - val_loss: 0.3112\n",
      "Epoch 18/40\n",
      "500/500 [==============================] - 127s 254ms/step - loss: 0.1844 - val_loss: 0.3165\n",
      "Epoch 19/40\n",
      "500/500 [==============================] - 154s 308ms/step - loss: 0.1854 - val_loss: 0.3198\n",
      "Epoch 20/40\n",
      "500/500 [==============================] - 129s 257ms/step - loss: 0.1825 - val_loss: 0.3227\n",
      "Epoch 21/40\n",
      "500/500 [==============================] - 125s 250ms/step - loss: 0.1793 - val_loss: 0.3248\n",
      "Epoch 22/40\n",
      "500/500 [==============================] - 123s 245ms/step - loss: 0.1769 - val_loss: 0.3298\n",
      "Epoch 23/40\n",
      "500/500 [==============================] - 122s 244ms/step - loss: 0.1760 - val_loss: 0.3265\n",
      "Epoch 24/40\n",
      "500/500 [==============================] - 122s 243ms/step - loss: 0.1738 - val_loss: 0.3287\n",
      "Epoch 25/40\n",
      "500/500 [==============================] - 122s 244ms/step - loss: 0.1723 - val_loss: 0.3205\n",
      "Epoch 26/40\n",
      "500/500 [==============================] - 120s 241ms/step - loss: 0.1722 - val_loss: 0.3277\n",
      "Epoch 27/40\n",
      "500/500 [==============================] - 121s 243ms/step - loss: 0.1683 - val_loss: 0.3261\n",
      "Epoch 28/40\n",
      "500/500 [==============================] - 121s 242ms/step - loss: 0.1673 - val_loss: 0.3303\n",
      "Epoch 29/40\n",
      "500/500 [==============================] - 119s 239ms/step - loss: 0.1674 - val_loss: 0.3356\n",
      "Epoch 30/40\n",
      "500/500 [==============================] - 119s 238ms/step - loss: 0.1637 - val_loss: 0.3337\n",
      "Epoch 31/40\n",
      "500/500 [==============================] - 120s 239ms/step - loss: 0.1619 - val_loss: 0.3367\n",
      "Epoch 32/40\n",
      "500/500 [==============================] - 120s 240ms/step - loss: 0.1609 - val_loss: 0.3446\n",
      "Epoch 33/40\n",
      "500/500 [==============================] - 120s 240ms/step - loss: 0.1595 - val_loss: 0.3355\n",
      "Epoch 34/40\n",
      "500/500 [==============================] - 119s 239ms/step - loss: 0.1572 - val_loss: 0.3410\n",
      "Epoch 35/40\n",
      "500/500 [==============================] - 120s 240ms/step - loss: 0.1566 - val_loss: 0.3390\n",
      "Epoch 36/40\n",
      "500/500 [==============================] - 120s 239ms/step - loss: 0.1555 - val_loss: 0.3373\n",
      "Epoch 37/40\n",
      "500/500 [==============================] - 131s 262ms/step - loss: 0.1559 - val_loss: 0.3388\n",
      "Epoch 38/40\n",
      "500/500 [==============================] - 138s 276ms/step - loss: 0.1530 - val_loss: 0.3408\n",
      "Epoch 39/40\n",
      "500/500 [==============================] - 134s 268ms/step - loss: 0.1523 - val_loss: 0.3438\n",
      "Epoch 40/40\n",
      "500/500 [==============================] - 126s 251ms/step - loss: 0.1505 - val_loss: 0.3408\n"
     ]
    }
   ],
   "source": [
    "from keras.models import Sequential\n",
    "from keras import layers\n",
    "from keras.optimizers import RMSprop\n",
    "\n",
    "model = Sequential()\n",
    "model.add(layers.LSTM(32, input_shape=(None, float_data.shape[-1])))\n",
    "model.add(layers.Dense(1))\n",
    "\n",
    "model.compile(optimizer=RMSprop(), loss='mae')\n",
    "model.summary()\n",
    "loss_history_1 = model.fit_generator(train_gen,\n",
    "                                          steps_per_epoch=500,\n",
    "                                          epochs=40,\n",
    "                                          validation_data=val_gen,\n",
    "                                          validation_steps=val_steps)"
   ]
  },
  {
   "cell_type": "code",
   "execution_count": 8,
   "metadata": {},
   "outputs": [
    {
     "data": {
      "image/png": "[encoded data removed]",
      "text/plain": [
       "<Figure size 720x360 with 1 Axes>"
      ]
     },
     "metadata": {
      "needs_background": "light"
     },
     "output_type": "display_data"
    }
   ],
   "source": [
    "ts_tra_loss = loss_history_1.history['loss']\n",
    "ts_val_loss = loss_history_1.history['val_loss']\n",
    "\n",
    "ts_in_epochs = np.arange(0, len(ts_tra_loss))\n",
    "fig = plt.figure(figsize=(10, 5))\n",
    "\n",
    "plt.plot(ts_in_epochs, ts_tra_loss, 's-', color=\"k\", label='Training loss')\n",
    "plt.plot(ts_in_epochs, ts_val_loss, '^-', color=\"b\", label='Validation loss')\n",
    "\n",
    "ts_xlabels = np.arange(0, len(ts_in_epochs), 5)\n",
    "plt.xticks(ts_xlabels, ts_xlabels, fontsize=14)\n",
    "\n",
    "plt.xlabel(\"Epochs\", axis_font)\n",
    "plt.ylabel(\"Losses\", axis_font)\n",
    "plt.legend(ncol=2, frameon=False, fontsize=14)\n",
    "\n",
    "plt.show()"
   ]
  },
  {
   "cell_type": "markdown",
   "metadata": {},
   "source": [
    "### 2. LSTM with dropouts "
   ]
  },
  {
   "cell_type": "code",
   "execution_count": 9,
   "metadata": {},
   "outputs": [
    {
     "name": "stdout",
     "output_type": "stream",
     "text": [
      "WARNING:tensorflow:From /Library/Frameworks/Python.framework/Versions/3.6/lib/python3.6/site-packages/keras/backend/tensorflow_backend.py:3445: calling dropout (from tensorflow.python.ops.nn_ops) with keep_prob is deprecated and will be removed in a future version.\n",
      "Instructions for updating:\n",
      "Please use `rate` instead of `keep_prob`. Rate should be set to `rate = 1 - keep_prob`.\n",
      "_________________________________________________________________\n",
      "Layer (type)                 Output Shape              Param #   \n",
      "=================================================================\n",
      "lstm_2 (LSTM)                (None, 32)                6016      \n",
      "_________________________________________________________________\n",
      "dense_2 (Dense)              (None, 1)                 33        \n",
      "=================================================================\n",
      "Total params: 6,049\n",
      "Trainable params: 6,049\n",
      "Non-trainable params: 0\n",
      "_________________________________________________________________\n",
      "Epoch 1/40\n",
      "500/500 [==============================] - 144s 289ms/step - loss: 0.3418 - val_loss: 0.2810\n",
      "Epoch 2/40\n",
      "500/500 [==============================] - 137s 274ms/step - loss: 0.3057 - val_loss: 0.2728\n",
      "Epoch 3/40\n",
      "500/500 [==============================] - 138s 275ms/step - loss: 0.2992 - val_loss: 0.2699\n",
      "Epoch 4/40\n",
      "500/500 [==============================] - 137s 274ms/step - loss: 0.2951 - val_loss: 0.2682\n",
      "Epoch 5/40\n",
      "500/500 [==============================] - 137s 275ms/step - loss: 0.2917 - val_loss: 0.2693\n",
      "Epoch 6/40\n",
      "500/500 [==============================] - 137s 274ms/step - loss: 0.2891 - val_loss: 0.2660\n",
      "Epoch 7/40\n",
      "500/500 [==============================] - 135s 270ms/step - loss: 0.2860 - val_loss: 0.2655\n",
      "Epoch 8/40\n",
      "500/500 [==============================] - 137s 273ms/step - loss: 0.2845 - val_loss: 0.2642\n",
      "Epoch 9/40\n",
      "500/500 [==============================] - 135s 271ms/step - loss: 0.2815 - val_loss: 0.2661\n",
      "Epoch 10/40\n",
      "500/500 [==============================] - 140s 279ms/step - loss: 0.2826 - val_loss: 0.2677\n",
      "Epoch 11/40\n",
      "500/500 [==============================] - 136s 271ms/step - loss: 0.2776 - val_loss: 0.2689\n",
      "Epoch 12/40\n",
      "500/500 [==============================] - 136s 272ms/step - loss: 0.2782 - val_loss: 0.2655\n",
      "Epoch 13/40\n",
      "500/500 [==============================] - 135s 270ms/step - loss: 0.2771 - val_loss: 0.2660\n",
      "Epoch 14/40\n",
      "500/500 [==============================] - 137s 274ms/step - loss: 0.2754 - val_loss: 0.2668\n",
      "Epoch 15/40\n",
      "500/500 [==============================] - 136s 273ms/step - loss: 0.2739 - val_loss: 0.2664\n",
      "Epoch 16/40\n",
      "500/500 [==============================] - 137s 274ms/step - loss: 0.2734 - val_loss: 0.2642\n",
      "Epoch 17/40\n",
      "500/500 [==============================] - 137s 274ms/step - loss: 0.2701 - val_loss: 0.2638\n",
      "Epoch 18/40\n",
      "500/500 [==============================] - 136s 272ms/step - loss: 0.2730 - val_loss: 0.2683\n",
      "Epoch 19/40\n",
      "500/500 [==============================] - 136s 273ms/step - loss: 0.2686 - val_loss: 0.2731\n",
      "Epoch 20/40\n",
      "500/500 [==============================] - 137s 273ms/step - loss: 0.2678 - val_loss: 0.2679\n",
      "Epoch 21/40\n",
      "500/500 [==============================] - 137s 274ms/step - loss: 0.2669 - val_loss: 0.2681\n",
      "Epoch 22/40\n",
      "500/500 [==============================] - 136s 272ms/step - loss: 0.2681 - val_loss: 0.2668\n",
      "Epoch 23/40\n",
      "500/500 [==============================] - 138s 275ms/step - loss: 0.2664 - val_loss: 0.2683\n",
      "Epoch 24/40\n",
      "500/500 [==============================] - 137s 273ms/step - loss: 0.2642 - val_loss: 0.2777\n",
      "Epoch 25/40\n",
      "500/500 [==============================] - 137s 273ms/step - loss: 0.2654 - val_loss: 0.2727\n",
      "Epoch 26/40\n",
      "500/500 [==============================] - 136s 272ms/step - loss: 0.2649 - val_loss: 0.2750\n",
      "Epoch 27/40\n",
      "500/500 [==============================] - 137s 274ms/step - loss: 0.2638 - val_loss: 0.2696\n",
      "Epoch 28/40\n",
      "500/500 [==============================] - 136s 272ms/step - loss: 0.2632 - val_loss: 0.2703\n",
      "Epoch 29/40\n",
      "500/500 [==============================] - 136s 273ms/step - loss: 0.2627 - val_loss: 0.2722\n",
      "Epoch 30/40\n",
      "500/500 [==============================] - 137s 274ms/step - loss: 0.2618 - val_loss: 0.2734\n",
      "Epoch 31/40\n",
      "500/500 [==============================] - 137s 273ms/step - loss: 0.2611 - val_loss: 0.2711\n",
      "Epoch 32/40\n",
      "500/500 [==============================] - 137s 275ms/step - loss: 0.2610 - val_loss: 0.2713\n",
      "Epoch 33/40\n",
      "500/500 [==============================] - 137s 273ms/step - loss: 0.2612 - val_loss: 0.2703\n",
      "Epoch 34/40\n",
      "500/500 [==============================] - 138s 276ms/step - loss: 0.2590 - val_loss: 0.2771\n",
      "Epoch 35/40\n",
      "500/500 [==============================] - 143s 287ms/step - loss: 0.2597 - val_loss: 0.2730\n",
      "Epoch 36/40\n",
      "500/500 [==============================] - 146s 292ms/step - loss: 0.2590 - val_loss: 0.2779\n",
      "Epoch 37/40\n",
      "500/500 [==============================] - 147s 293ms/step - loss: 0.2584 - val_loss: 0.2736\n",
      "Epoch 38/40\n",
      "500/500 [==============================] - 140s 281ms/step - loss: 0.2579 - val_loss: 0.2718\n",
      "Epoch 39/40\n",
      "500/500 [==============================] - 139s 278ms/step - loss: 0.2567 - val_loss: 0.2774\n",
      "Epoch 40/40\n",
      "500/500 [==============================] - 140s 280ms/step - loss: 0.2587 - val_loss: 0.2744\n"
     ]
    }
   ],
   "source": [
    "from keras.models import Sequential\n",
    "from keras import layers\n",
    "from keras.optimizers import RMSprop\n",
    "\n",
    "drop_model = Sequential()\n",
    "drop_model.add(layers.LSTM(32,\n",
    "                     dropout=0.2,\n",
    "                     recurrent_dropout=0.2,\n",
    "                     input_shape=(None, float_data.shape[-1])))\n",
    "drop_model.add(layers.Dense(1))\n",
    "\n",
    "drop_model.compile(optimizer=RMSprop(), loss='mae')\n",
    "drop_model.summary()\n",
    "loss_history_2 = drop_model.fit_generator(train_gen,\n",
    "                                              steps_per_epoch=500,\n",
    "                                              epochs=40,\n",
    "                                              validation_data=val_gen,\n",
    "                                              validation_steps=val_steps)"
   ]
  },
  {
   "cell_type": "code",
   "execution_count": 10,
   "metadata": {},
   "outputs": [
    {
     "data": {
      "image/png": "[encoded data removed]",
      "text/plain": [
       "<Figure size 720x360 with 1 Axes>"
      ]
     },
     "metadata": {
      "needs_background": "light"
     },
     "output_type": "display_data"
    }
   ],
   "source": [
    "ts_tra_loss = loss_history_2.history['loss']\n",
    "ts_val_loss = loss_history_2.history['val_loss']\n",
    "\n",
    "ts_in_epochs = np.arange(0, len(ts_tra_loss))\n",
    "fig = plt.figure(figsize=(10, 5))\n",
    "\n",
    "plt.plot(ts_in_epochs, ts_tra_loss, 's-', color=\"k\", label='Training loss')\n",
    "plt.plot(ts_in_epochs, ts_val_loss, '^-', color=\"b\", label='Validation loss')\n",
    "\n",
    "ts_xlabels = np.arange(0, len(ts_in_epochs), 5)\n",
    "plt.xticks(ts_xlabels, ts_xlabels, fontsize=14)\n",
    "\n",
    "plt.xlabel(\"Epochs\", axis_font)\n",
    "plt.ylabel(\"Losses\", axis_font)\n",
    "plt.legend(ncol=2, frameon=False, fontsize=14)\n",
    "\n",
    "plt.show()"
   ]
  },
  {
   "cell_type": "markdown",
   "metadata": {},
   "source": [
    "### 3. Stacking LSTM/GRU layers"
   ]
  },
  {
   "cell_type": "code",
   "execution_count": 11,
   "metadata": {},
   "outputs": [
    {
     "name": "stdout",
     "output_type": "stream",
     "text": [
      "Epoch 1/40\n",
      "500/500 [==============================] - 309s 618ms/step - loss: 0.3412 - val_loss: 0.2790\n",
      "Epoch 2/40\n",
      "500/500 [==============================] - 301s 602ms/step - loss: 0.3128 - val_loss: 0.2836\n",
      "Epoch 3/40\n",
      "500/500 [==============================] - 303s 606ms/step - loss: 0.3054 - val_loss: 0.2714\n",
      "Epoch 4/40\n",
      "500/500 [==============================] - 302s 605ms/step - loss: 0.3010 - val_loss: 0.2707\n",
      "Epoch 5/40\n",
      "500/500 [==============================] - 300s 599ms/step - loss: 0.2961 - val_loss: 0.2680\n",
      "Epoch 6/40\n",
      "500/500 [==============================] - 299s 597ms/step - loss: 0.2931 - val_loss: 0.2670\n",
      "Epoch 7/40\n",
      "500/500 [==============================] - 296s 592ms/step - loss: 0.2900 - val_loss: 0.2648\n",
      "Epoch 8/40\n",
      "500/500 [==============================] - 304s 607ms/step - loss: 0.2875 - val_loss: 0.2653\n",
      "Epoch 9/40\n",
      "500/500 [==============================] - 292s 583ms/step - loss: 0.2859 - val_loss: 0.2733\n",
      "Epoch 10/40\n",
      "500/500 [==============================] - 293s 585ms/step - loss: 0.2827 - val_loss: 0.2671\n",
      "Epoch 11/40\n",
      "500/500 [==============================] - 292s 584ms/step - loss: 0.2804 - val_loss: 0.2711\n",
      "Epoch 12/40\n",
      "500/500 [==============================] - 284s 569ms/step - loss: 0.2788 - val_loss: 0.2714\n",
      "Epoch 13/40\n",
      "500/500 [==============================] - 296s 591ms/step - loss: 0.2758 - val_loss: 0.2695\n",
      "Epoch 14/40\n",
      "500/500 [==============================] - 297s 595ms/step - loss: 0.2759 - val_loss: 0.2688\n",
      "Epoch 15/40\n",
      "500/500 [==============================] - 297s 593ms/step - loss: 0.2739 - val_loss: 0.2686\n",
      "Epoch 16/40\n",
      "500/500 [==============================] - 295s 591ms/step - loss: 0.2717 - val_loss: 0.2691\n",
      "Epoch 17/40\n",
      "500/500 [==============================] - 296s 593ms/step - loss: 0.2689 - val_loss: 0.2784\n",
      "Epoch 18/40\n",
      "500/500 [==============================] - 291s 582ms/step - loss: 0.2686 - val_loss: 0.2712\n",
      "Epoch 19/40\n",
      "500/500 [==============================] - 286s 572ms/step - loss: 0.2667 - val_loss: 0.2689\n",
      "Epoch 20/40\n",
      "500/500 [==============================] - 282s 564ms/step - loss: 0.2646 - val_loss: 0.2753\n",
      "Epoch 21/40\n",
      "500/500 [==============================] - 283s 565ms/step - loss: 0.2654 - val_loss: 0.2702\n",
      "Epoch 22/40\n",
      "500/500 [==============================] - 282s 564ms/step - loss: 0.2630 - val_loss: 0.2736\n",
      "Epoch 23/40\n",
      "500/500 [==============================] - 283s 566ms/step - loss: 0.2616 - val_loss: 0.2712\n",
      "Epoch 24/40\n",
      "500/500 [==============================] - 285s 569ms/step - loss: 0.2615 - val_loss: 0.2771\n",
      "Epoch 25/40\n",
      "500/500 [==============================] - 283s 565ms/step - loss: 0.2592 - val_loss: 0.2744\n",
      "Epoch 26/40\n",
      "500/500 [==============================] - 284s 568ms/step - loss: 0.2593 - val_loss: 0.2741\n",
      "Epoch 27/40\n",
      "500/500 [==============================] - 284s 568ms/step - loss: 0.2586 - val_loss: 0.2735\n",
      "Epoch 28/40\n",
      "500/500 [==============================] - 284s 567ms/step - loss: 0.2563 - val_loss: 0.2742\n",
      "Epoch 29/40\n",
      "500/500 [==============================] - 285s 570ms/step - loss: 0.2550 - val_loss: 0.2726\n",
      "Epoch 30/40\n",
      "500/500 [==============================] - 285s 569ms/step - loss: 0.2542 - val_loss: 0.2794\n",
      "Epoch 31/40\n",
      "500/500 [==============================] - 285s 569ms/step - loss: 0.2532 - val_loss: 0.2740\n",
      "Epoch 32/40\n",
      "500/500 [==============================] - 285s 570ms/step - loss: 0.2540 - val_loss: 0.2803\n",
      "Epoch 33/40\n",
      "500/500 [==============================] - 285s 571ms/step - loss: 0.2518 - val_loss: 0.2753\n",
      "Epoch 34/40\n",
      "500/500 [==============================] - 285s 570ms/step - loss: 0.2517 - val_loss: 0.2770\n",
      "Epoch 35/40\n",
      "500/500 [==============================] - 287s 573ms/step - loss: 0.2497 - val_loss: 0.2786\n",
      "Epoch 36/40\n",
      "500/500 [==============================] - 295s 589ms/step - loss: 0.2503 - val_loss: 0.2772\n",
      "Epoch 37/40\n",
      "500/500 [==============================] - 295s 589ms/step - loss: 0.2502 - val_loss: 0.2760\n",
      "Epoch 38/40\n",
      "500/500 [==============================] - 291s 583ms/step - loss: 0.2487 - val_loss: 0.2769\n",
      "Epoch 39/40\n",
      "500/500 [==============================] - 286s 572ms/step - loss: 0.2487 - val_loss: 0.2794\n",
      "Epoch 40/40\n",
      "500/500 [==============================] - 287s 574ms/step - loss: 0.2472 - val_loss: 0.2779\n"
     ]
    }
   ],
   "source": [
    "# stacking recurrent layers\n",
    "\n",
    "from keras.models import Sequential\n",
    "from keras import layers\n",
    "from keras.optimizers import RMSprop\n",
    "\n",
    "stack_drop_model = Sequential()\n",
    "stack_drop_model.add(layers.LSTM(32,\n",
    "                     dropout=0.1,\n",
    "                     recurrent_dropout=0.5,\n",
    "                     return_sequences=True,\n",
    "                     input_shape=(None, float_data.shape[-1])))\n",
    "stack_drop_model.add(layers.GRU(64, activation='relu',\n",
    "                     dropout=0.1, \n",
    "                     recurrent_dropout=0.5))\n",
    "stack_drop_model.add(layers.Dense(1))\n",
    "\n",
    "stack_drop_model.compile(optimizer=RMSprop(), loss='mae')\n",
    "loss_history_3 = stack_drop_model.fit_generator(train_gen,\n",
    "                                                  steps_per_epoch=500,\n",
    "                                                  epochs=40,\n",
    "                                                  validation_data=val_gen,\n",
    "                                                  validation_steps=val_steps)"
   ]
  },
  {
   "cell_type": "code",
   "execution_count": 12,
   "metadata": {},
   "outputs": [
    {
     "data": {
      "image/png": "[encoded data removed]",
      "text/plain": [
       "<Figure size 720x360 with 1 Axes>"
      ]
     },
     "metadata": {
      "needs_background": "light"
     },
     "output_type": "display_data"
    }
   ],
   "source": [
    "ts_tra_loss = loss_history_3.history['loss']\n",
    "ts_val_loss = loss_history_3.history['val_loss']\n",
    "\n",
    "ts_in_epochs = np.arange(0, len(ts_tra_loss))\n",
    "fig = plt.figure(figsize=(10, 5))\n",
    "\n",
    "plt.plot(ts_in_epochs, ts_tra_loss, 's-', color=\"k\", label='Training loss')\n",
    "plt.plot(ts_in_epochs, ts_val_loss, '^-', color=\"b\", label='Validation loss')\n",
    "\n",
    "ts_xlabels = np.arange(0, len(ts_in_epochs), 5)\n",
    "plt.xticks(ts_xlabels, ts_xlabels, fontsize=14)\n",
    "\n",
    "plt.xlabel(\"Epochs\", axis_font)\n",
    "plt.ylabel(\"Losses\", axis_font)\n",
    "plt.legend(ncol=2, frameon=False, fontsize=14)\n",
    "\n",
    "plt.show()"
   ]
  },
  {
   "cell_type": "code",
   "execution_count": 13,
   "metadata": {},
   "outputs": [
    {
     "name": "stdout",
     "output_type": "stream",
     "text": [
      "INFO: LSTM: 0.346\n",
      "INFO: LSTM with drop: 0.285\n",
      "INFO: Stack LSTM with drop: 0.293\n"
     ]
    }
   ],
   "source": [
    "fo_model = model.evaluate_generator(test_gen, test_steps)\n",
    "print(\"INFO: LSTM: %5.3f\" %fo_model)\n",
    "fo_model = drop_model.evaluate_generator(test_gen, test_steps)\n",
    "print(\"INFO: LSTM with drop: %5.3f\" %fo_model)\n",
    "fo_model = stack_drop_model.evaluate_generator(test_gen, test_steps)\n",
    "print(\"INFO: Stack LSTM with drop: %5.3f\" %fo_model)"
   ]
  }
 ],
 "metadata": {
  "kernelspec": {
   "display_name": "Python 3",
   "language": "python",
   "name": "python3"
  },
  "language_info": {
   "codemirror_mode": {
    "name": "ipython",
    "version": 3
   },
   "file_extension": ".py",
   "mimetype": "text/x-python",
   "name": "python",
   "nbconvert_exporter": "python",
   "pygments_lexer": "ipython3",
   "version": "3.6.0"
  }
 },
 "nbformat": 4,
 "nbformat_minor": 2
}
