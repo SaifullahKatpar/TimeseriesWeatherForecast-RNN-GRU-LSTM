{
 "cells": [
  {
   "cell_type": "markdown",
   "metadata": {},
   "source": [
    "# Recurrent Nerual Network for weather forecast\n",
    "\n",
    "Some of interesting models, which are listed below, from the book, **Deep Learning with Python by Francois Chollet** were taken.\n",
    "\n",
    "* Gated Recurrent Unit (GRU)\n",
    "* GRU with dropouts \n",
    "* Stacking GRU layers"
   ]
  },
  {
   "cell_type": "code",
   "execution_count": 1,
   "metadata": {},
   "outputs": [
    {
     "name": "stderr",
     "output_type": "stream",
     "text": [
      "Using TensorFlow backend.\n"
     ]
    },
    {
     "data": {
      "text/plain": [
       "'2.2.4'"
      ]
     },
     "execution_count": 1,
     "metadata": {},
     "output_type": "execute_result"
    }
   ],
   "source": [
    "import os\n",
    "import numpy as np\n",
    "\n",
    "import keras\n",
    "keras.__version__"
   ]
  },
  {
   "cell_type": "code",
   "execution_count": 2,
   "metadata": {},
   "outputs": [],
   "source": [
    "%matplotlib inline\n",
    "import matplotlib as mpl\n",
    "import matplotlib.pyplot as plt\n",
    "import matplotlib.colors as colors\n",
    "\n",
    "import seaborn as sns\n",
    "\n",
    "mpl.rc('axes', labelsize=14)\n",
    "mpl.rc('xtick', labelsize=12)\n",
    "mpl.rc('ytick', labelsize=12)\n",
    "\n",
    "font      = {'family':'arial', 'style':'normal', 'size':18}\n",
    "axis_font = {'family':'arial', 'style':'normal', 'size':18}\n",
    "plt.rc('font', **font)"
   ]
  },
  {
   "cell_type": "markdown",
   "metadata": {},
   "source": [
    "### Data preparation\n",
    "\n",
    "* Data: [jena_climate](https://s3.amazonaws.com/keras-datasets/jena_climate_2009_2016.csv.zip)\n",
    "\n",
    "* This step primarily contains following steps:\n",
    "    1. Data parsing\n",
    "    2. Normalization\n",
    "    3. Data generation for modeling"
   ]
  },
  {
   "cell_type": "markdown",
   "metadata": {},
   "source": [
    "### 1. Loading the downloaded data into numpy array"
   ]
  },
  {
   "cell_type": "code",
   "execution_count": 3,
   "metadata": {},
   "outputs": [
    {
     "name": "stdout",
     "output_type": "stream",
     "text": [
      "INFO: # of columns: 15\n",
      "INFO: \"Date Time\", \"p (mbar)\", \"T (degC)\", \"Tpot (K)\", \"Tdew (degC)\", \"rh (%)\", \"VPmax (mbar)\", \"VPact (mbar)\", \"VPdef (mbar)\", \"sh (g/kg)\", \"H2OC (mmol/mol)\", \"rho (g/m**3)\", \"wv (m/s)\", \"max. wv (m/s)\", \"wd (deg)\"\n",
      "INFO: array shape (420552, 14)\n"
     ]
    }
   ],
   "source": [
    "data_dir = '../data'\n",
    "fname = os.path.join(data_dir, 'jena_climate_2009_2016.csv')\n",
    "\n",
    "f = open(fname)\n",
    "data = f.read()\n",
    "f.close()\n",
    "\n",
    "lines = data.split('\\n')\n",
    "header = lines[0].split(',')\n",
    "lines = lines[1:]\n",
    "\n",
    "print(\"INFO: # of columns: {}\".format(len(header)))\n",
    "print(\"INFO: {}\".format(\", \".join(header)))\n",
    "\n",
    "float_data = np.zeros((len(lines), len(header) - 1))\n",
    "for i, line in enumerate(lines):\n",
    "    values = [float(x) for x in line.split(',')[1:]]\n",
    "    #print(\"Coding: \", float_data.shape, len(values))\n",
    "    float_data[i, :len(values)] = values\n",
    "\n",
    "print(\"INFO: array shape {}\".format(float_data.shape))"
   ]
  },
  {
   "cell_type": "markdown",
   "metadata": {},
   "source": [
    "### 2. Normalizing the data"
   ]
  },
  {
   "cell_type": "code",
   "execution_count": 4,
   "metadata": {},
   "outputs": [],
   "source": [
    "mean = float_data[:200000].mean(axis=0)\n",
    "float_data -= mean\n",
    "\n",
    "std = float_data[:200000].std(axis=0)\n",
    "float_data /= std"
   ]
  },
  {
   "cell_type": "markdown",
   "metadata": {},
   "source": [
    "### 3. Creating generator for fitting Keras model"
   ]
  },
  {
   "cell_type": "code",
   "execution_count": 5,
   "metadata": {},
   "outputs": [],
   "source": [
    "def generator(data, lookback, delay, min_index, max_index,\n",
    "              shuffle=False, batch_size=128, step=6):\n",
    "    if max_index is None:\n",
    "        max_index = len(data) - delay - 1\n",
    "    i = min_index + lookback\n",
    "    while 1:\n",
    "        if shuffle:\n",
    "            rows = np.random.randint(\n",
    "                min_index + lookback, max_index, size=batch_size)\n",
    "        else:\n",
    "            if i + batch_size >= max_index:\n",
    "                i = min_index + lookback\n",
    "            rows = np.arange(i, min(i + batch_size, max_index))\n",
    "            i += len(rows)\n",
    "\n",
    "        samples = np.zeros((len(rows),\n",
    "                           lookback // step,\n",
    "                           data.shape[-1]))\n",
    "        targets = np.zeros((len(rows),))\n",
    "        for j, row in enumerate(rows):\n",
    "            indices = range(rows[j] - lookback, rows[j], step)\n",
    "            samples[j] = data[indices]\n",
    "            targets[j] = data[rows[j] + delay][1]\n",
    "        yield samples, targets"
   ]
  },
  {
   "cell_type": "code",
   "execution_count": 6,
   "metadata": {},
   "outputs": [],
   "source": [
    "lookback = 1440\n",
    "step = 6\n",
    "delay = 144\n",
    "batch_size = 128\n",
    "\n",
    "train_gen = generator(float_data,\n",
    "                      lookback=lookback,\n",
    "                      delay=delay,\n",
    "                      min_index=0,\n",
    "                      max_index=200000,\n",
    "                      shuffle=True,\n",
    "                      step=step, \n",
    "                      batch_size=batch_size)\n",
    "val_gen = generator(float_data,\n",
    "                    lookback=lookback,\n",
    "                    delay=delay,\n",
    "                    min_index=200001,\n",
    "                    max_index=300000,\n",
    "                    step=step,\n",
    "                    batch_size=batch_size)\n",
    "test_gen = generator(float_data,\n",
    "                     lookback=lookback,\n",
    "                     delay=delay,\n",
    "                     min_index=300001,\n",
    "                     max_index=None,\n",
    "                     step=step,\n",
    "                     batch_size=batch_size)\n",
    "\n",
    "# This is how many steps to draw from `val_gen`\n",
    "# in order to see the whole validation set:\n",
    "val_steps = (300000 - 200001 - lookback) // batch_size\n",
    "\n",
    "# This is how many steps to draw from `test_gen`\n",
    "# in order to see the whole test set:\n",
    "test_steps = (len(float_data) - 300001 - lookback) // batch_size"
   ]
  },
  {
   "cell_type": "markdown",
   "metadata": {},
   "source": [
    "### Keras Models\n",
    "\n",
    "1. Gated Recurrent Unit (GRU)\n",
    "2. GRU with dropouts \n",
    "3. Stacking GRU layers"
   ]
  },
  {
   "cell_type": "markdown",
   "metadata": {},
   "source": [
    "### 1. Gated Recurrent Unit (GRU)"
   ]
  },
  {
   "cell_type": "code",
   "execution_count": 7,
   "metadata": {},
   "outputs": [
    {
     "name": "stderr",
     "output_type": "stream",
     "text": [
      "WARNING: Logging before flag parsing goes to stderr.\n",
      "W0821 10:09:39.523544 139970285811520 deprecation_wrapper.py:119] From /home/rojan/Kathmandu/Virtual/env/lib64/python3.6/site-packages/keras/backend/tensorflow_backend.py:74: The name tf.get_default_graph is deprecated. Please use tf.compat.v1.get_default_graph instead.\n",
      "\n",
      "W0821 10:09:39.551859 139970285811520 deprecation_wrapper.py:119] From /home/rojan/Kathmandu/Virtual/env/lib64/python3.6/site-packages/keras/backend/tensorflow_backend.py:517: The name tf.placeholder is deprecated. Please use tf.compat.v1.placeholder instead.\n",
      "\n",
      "W0821 10:09:39.571938 139970285811520 deprecation_wrapper.py:119] From /home/rojan/Kathmandu/Virtual/env/lib64/python3.6/site-packages/keras/backend/tensorflow_backend.py:4138: The name tf.random_uniform is deprecated. Please use tf.random.uniform instead.\n",
      "\n",
      "W0821 10:09:39.711449 139970285811520 deprecation_wrapper.py:119] From /home/rojan/Kathmandu/Virtual/env/lib64/python3.6/site-packages/keras/optimizers.py:790: The name tf.train.Optimizer is deprecated. Please use tf.compat.v1.train.Optimizer instead.\n",
      "\n",
      "W0821 10:09:39.872098 139970285811520 deprecation.py:323] From /home/rojan/Kathmandu/Virtual/env/lib64/python3.6/site-packages/tensorflow/python/ops/math_grad.py:1250: add_dispatch_support.<locals>.wrapper (from tensorflow.python.ops.array_ops) is deprecated and will be removed in a future version.\n",
      "Instructions for updating:\n",
      "Use tf.where in 2.0, which has the same broadcast rule as np.where\n"
     ]
    },
    {
     "name": "stdout",
     "output_type": "stream",
     "text": [
      "_________________________________________________________________\n",
      "Layer (type)                 Output Shape              Param #   \n",
      "=================================================================\n",
      "gru_1 (GRU)                  (None, 32)                4512      \n",
      "_________________________________________________________________\n",
      "dense_1 (Dense)              (None, 1)                 33        \n",
      "=================================================================\n",
      "Total params: 4,545\n",
      "Trainable params: 4,545\n",
      "Non-trainable params: 0\n",
      "_________________________________________________________________\n"
     ]
    },
    {
     "name": "stderr",
     "output_type": "stream",
     "text": [
      "W0821 10:09:40.158993 139970285811520 deprecation_wrapper.py:119] From /home/rojan/Kathmandu/Virtual/env/lib64/python3.6/site-packages/keras/backend/tensorflow_backend.py:986: The name tf.assign_add is deprecated. Please use tf.compat.v1.assign_add instead.\n",
      "\n",
      "W0821 10:09:40.164559 139970285811520 deprecation_wrapper.py:119] From /home/rojan/Kathmandu/Virtual/env/lib64/python3.6/site-packages/keras/backend/tensorflow_backend.py:973: The name tf.assign is deprecated. Please use tf.compat.v1.assign instead.\n",
      "\n"
     ]
    },
    {
     "name": "stdout",
     "output_type": "stream",
     "text": [
      "Epoch 1/20\n",
      "500/500 [==============================] - 72s 144ms/step - loss: 0.3016 - val_loss: 0.2779\n",
      "Epoch 2/20\n",
      "500/500 [==============================] - 79s 158ms/step - loss: 0.2850 - val_loss: 0.2641\n",
      "Epoch 3/20\n",
      "500/500 [==============================] - 78s 156ms/step - loss: 0.2773 - val_loss: 0.2620\n",
      "Epoch 4/20\n",
      "500/500 [==============================] - 77s 154ms/step - loss: 0.2736 - val_loss: 0.2607\n",
      "Epoch 5/20\n",
      "500/500 [==============================] - 79s 158ms/step - loss: 0.2695 - val_loss: 0.2612\n",
      "Epoch 6/20\n",
      "500/500 [==============================] - 79s 158ms/step - loss: 0.2657 - val_loss: 0.2639\n",
      "Epoch 7/20\n",
      "500/500 [==============================] - 79s 157ms/step - loss: 0.2624 - val_loss: 0.2656\n",
      "Epoch 8/20\n",
      "500/500 [==============================] - 77s 155ms/step - loss: 0.2587 - val_loss: 0.2730\n",
      "Epoch 9/20\n",
      "500/500 [==============================] - 79s 157ms/step - loss: 0.2544 - val_loss: 0.2724\n",
      "Epoch 10/20\n",
      "500/500 [==============================] - 79s 158ms/step - loss: 0.2503 - val_loss: 0.2685\n",
      "Epoch 11/20\n",
      "500/500 [==============================] - 79s 158ms/step - loss: 0.2428 - val_loss: 0.2739\n",
      "Epoch 12/20\n",
      "500/500 [==============================] - 78s 156ms/step - loss: 0.2411 - val_loss: 0.2769\n",
      "Epoch 13/20\n",
      "500/500 [==============================] - 78s 155ms/step - loss: 0.2352 - val_loss: 0.2805\n",
      "Epoch 14/20\n",
      "500/500 [==============================] - 79s 158ms/step - loss: 0.2332 - val_loss: 0.2756\n",
      "Epoch 15/20\n",
      "500/500 [==============================] - 79s 157ms/step - loss: 0.2297 - val_loss: 0.2785\n",
      "Epoch 16/20\n",
      "500/500 [==============================] - 78s 157ms/step - loss: 0.2234 - val_loss: 0.2834\n",
      "Epoch 17/20\n",
      "500/500 [==============================] - 77s 154ms/step - loss: 0.2217 - val_loss: 0.2868\n",
      "Epoch 18/20\n",
      "500/500 [==============================] - 79s 157ms/step - loss: 0.2169 - val_loss: 0.2898\n",
      "Epoch 19/20\n",
      "500/500 [==============================] - 79s 157ms/step - loss: 0.2123 - val_loss: 0.3043\n",
      "Epoch 20/20\n",
      "500/500 [==============================] - 79s 157ms/step - loss: 0.2101 - val_loss: 0.2930\n"
     ]
    }
   ],
   "source": [
    "from keras.models import Sequential\n",
    "from keras import layers\n",
    "from keras.optimizers import RMSprop\n",
    "\n",
    "gru_model = Sequential()\n",
    "gru_model.add(layers.GRU(32, input_shape=(None, float_data.shape[-1])))\n",
    "gru_model.add(layers.Dense(1))\n",
    "\n",
    "gru_model.compile(optimizer=RMSprop(), loss='mae')\n",
    "gru_model.summary()\n",
    "gru_loss_history_1 = gru_model.fit_generator(train_gen,\n",
    "                                          steps_per_epoch=500,\n",
    "                                          epochs=20,\n",
    "                                          validation_data=val_gen,\n",
    "                                          validation_steps=val_steps)"
   ]
  },
  {
   "cell_type": "code",
   "execution_count": 8,
   "metadata": {},
   "outputs": [
    {
     "name": "stderr",
     "output_type": "stream",
     "text": [
      "W0821 10:35:41.188709 139970285811520 font_manager.py:1282] findfont: Font family ['arial'] not found. Falling back to DejaVu Sans.\n",
      "W0821 10:35:41.356507 139970285811520 font_manager.py:1282] findfont: Font family ['arial'] not found. Falling back to DejaVu Sans.\n",
      "W0821 10:35:41.366945 139970285811520 font_manager.py:1282] findfont: Font family ['arial'] not found. Falling back to DejaVu Sans.\n"
     ]
    },
    {
     "data": {
      "image/png": "[encoded data removed]",
      "text/plain": [
       "<Figure size 720x360 with 1 Axes>"
      ]
     },
     "metadata": {
      "needs_background": "light"
     },
     "output_type": "display_data"
    }
   ],
   "source": [
    "ts_tra_loss = gru_loss_history_1.history['loss']\n",
    "ts_val_loss = gru_loss_history_1.history['val_loss']\n",
    "\n",
    "ts_in_epochs = np.arange(0, len(ts_tra_loss))\n",
    "fig = plt.figure(figsize=(10, 5))\n",
    "\n",
    "plt.plot(ts_in_epochs, ts_tra_loss, 's-', color=\"k\", label='Training loss')\n",
    "plt.plot(ts_in_epochs, ts_val_loss, '^-', color=\"b\", label='Validation loss')\n",
    "\n",
    "ts_xlabels = np.arange(0, len(ts_in_epochs), 5)\n",
    "plt.xticks(ts_xlabels, ts_xlabels, fontsize=14)\n",
    "\n",
    "plt.xlabel(\"Epochs\", axis_font)\n",
    "plt.ylabel(\"Losses\", axis_font)\n",
    "plt.legend(ncol=2, frameon=False, fontsize=14)\n",
    "\n",
    "plt.show()"
   ]
  },
  {
   "cell_type": "markdown",
   "metadata": {},
   "source": [
    "### 2. GRU with dropouts "
   ]
  },
  {
   "cell_type": "code",
   "execution_count": 9,
   "metadata": {},
   "outputs": [
    {
     "name": "stderr",
     "output_type": "stream",
     "text": [
      "W0821 10:35:41.566439 139970285811520 deprecation.py:506] From /home/rojan/Kathmandu/Virtual/env/lib64/python3.6/site-packages/keras/backend/tensorflow_backend.py:3445: calling dropout (from tensorflow.python.ops.nn_ops) with keep_prob is deprecated and will be removed in a future version.\n",
      "Instructions for updating:\n",
      "Please use `rate` instead of `keep_prob`. Rate should be set to `rate = 1 - keep_prob`.\n"
     ]
    },
    {
     "name": "stdout",
     "output_type": "stream",
     "text": [
      "_________________________________________________________________\n",
      "Layer (type)                 Output Shape              Param #   \n",
      "=================================================================\n",
      "gru_2 (GRU)                  (None, 32)                4512      \n",
      "_________________________________________________________________\n",
      "dense_2 (Dense)              (None, 1)                 33        \n",
      "=================================================================\n",
      "Total params: 4,545\n",
      "Trainable params: 4,545\n",
      "Non-trainable params: 0\n",
      "_________________________________________________________________\n",
      "Epoch 1/40\n",
      "500/500 [==============================] - 90s 179ms/step - loss: 0.3438 - val_loss: 0.2752\n",
      "Epoch 2/40\n",
      "500/500 [==============================] - 88s 176ms/step - loss: 0.3151 - val_loss: 0.2694\n",
      "Epoch 3/40\n",
      "500/500 [==============================] - 87s 175ms/step - loss: 0.3093 - val_loss: 0.2707\n",
      "Epoch 4/40\n",
      "500/500 [==============================] - 89s 177ms/step - loss: 0.3042 - val_loss: 0.2695\n",
      "Epoch 5/40\n",
      "500/500 [==============================] - 89s 178ms/step - loss: 0.3009 - val_loss: 0.2689\n",
      "Epoch 6/40\n",
      "500/500 [==============================] - 89s 177ms/step - loss: 0.3006 - val_loss: 0.2687\n",
      "Epoch 7/40\n",
      "500/500 [==============================] - 89s 178ms/step - loss: 0.2961 - val_loss: 0.2691\n",
      "Epoch 8/40\n",
      "500/500 [==============================] - 89s 178ms/step - loss: 0.2936 - val_loss: 0.2720\n",
      "Epoch 9/40\n",
      "500/500 [==============================] - 89s 179ms/step - loss: 0.2912 - val_loss: 0.2663\n",
      "Epoch 10/40\n",
      "500/500 [==============================] - 89s 177ms/step - loss: 0.2899 - val_loss: 0.2713\n",
      "Epoch 11/40\n",
      "500/500 [==============================] - 88s 176ms/step - loss: 0.2880 - val_loss: 0.2659\n",
      "Epoch 12/40\n",
      "500/500 [==============================] - 88s 176ms/step - loss: 0.2878 - val_loss: 0.2620\n",
      "Epoch 13/40\n",
      "500/500 [==============================] - 89s 179ms/step - loss: 0.2870 - val_loss: 0.2678\n",
      "Epoch 14/40\n",
      "500/500 [==============================] - 89s 179ms/step - loss: 0.2845 - val_loss: 0.2675\n",
      "Epoch 15/40\n",
      "500/500 [==============================] - 89s 178ms/step - loss: 0.2830 - val_loss: 0.2640\n",
      "Epoch 16/40\n",
      "500/500 [==============================] - 89s 178ms/step - loss: 0.2843 - val_loss: 0.2638\n",
      "Epoch 17/40\n",
      "500/500 [==============================] - 89s 178ms/step - loss: 0.2822 - val_loss: 0.2670\n",
      "Epoch 18/40\n",
      "500/500 [==============================] - 89s 178ms/step - loss: 0.2807 - val_loss: 0.2646\n",
      "Epoch 19/40\n",
      "500/500 [==============================] - 88s 176ms/step - loss: 0.2805 - val_loss: 0.2622\n",
      "Epoch 20/40\n",
      "500/500 [==============================] - 87s 175ms/step - loss: 0.2793 - val_loss: 0.2609\n",
      "Epoch 21/40\n",
      "500/500 [==============================] - 88s 176ms/step - loss: 0.2786 - val_loss: 0.2648\n",
      "Epoch 22/40\n",
      "500/500 [==============================] - 89s 178ms/step - loss: 0.2766 - val_loss: 0.2647\n",
      "Epoch 23/40\n",
      "500/500 [==============================] - 89s 178ms/step - loss: 0.2768 - val_loss: 0.2656\n",
      "Epoch 24/40\n",
      "500/500 [==============================] - 89s 178ms/step - loss: 0.2767 - val_loss: 0.2654\n",
      "Epoch 25/40\n",
      "500/500 [==============================] - 89s 178ms/step - loss: 0.2760 - val_loss: 0.2706\n",
      "Epoch 26/40\n",
      "500/500 [==============================] - 89s 178ms/step - loss: 0.2738 - val_loss: 0.2651\n",
      "Epoch 27/40\n",
      "500/500 [==============================] - 89s 177ms/step - loss: 0.2744 - val_loss: 0.2620\n",
      "Epoch 28/40\n",
      "500/500 [==============================] - 88s 176ms/step - loss: 0.2730 - val_loss: 0.2663\n",
      "Epoch 29/40\n",
      "500/500 [==============================] - 86s 172ms/step - loss: 0.2728 - val_loss: 0.2679\n",
      "Epoch 30/40\n",
      "500/500 [==============================] - 89s 178ms/step - loss: 0.2724 - val_loss: 0.2718\n",
      "Epoch 31/40\n",
      "500/500 [==============================] - 89s 178ms/step - loss: 0.2731 - val_loss: 0.2751\n",
      "Epoch 32/40\n",
      "500/500 [==============================] - 89s 178ms/step - loss: 0.2713 - val_loss: 0.2647\n",
      "Epoch 33/40\n",
      "500/500 [==============================] - 87s 174ms/step - loss: 0.2718 - val_loss: 0.2664\n",
      "Epoch 34/40\n",
      "500/500 [==============================] - 89s 177ms/step - loss: 0.2716 - val_loss: 0.2677\n",
      "Epoch 35/40\n",
      "500/500 [==============================] - 89s 178ms/step - loss: 0.2690 - val_loss: 0.2688\n",
      "Epoch 36/40\n",
      "500/500 [==============================] - 89s 179ms/step - loss: 0.2691 - val_loss: 0.2649\n",
      "Epoch 37/40\n",
      "500/500 [==============================] - 88s 176ms/step - loss: 0.2682 - val_loss: 0.2652\n",
      "Epoch 38/40\n",
      "500/500 [==============================] - 87s 174ms/step - loss: 0.2671 - val_loss: 0.2684\n",
      "Epoch 39/40\n",
      "500/500 [==============================] - 89s 178ms/step - loss: 0.2695 - val_loss: 0.2647\n",
      "Epoch 40/40\n",
      "500/500 [==============================] - 89s 178ms/step - loss: 0.2677 - val_loss: 0.2656\n"
     ]
    }
   ],
   "source": [
    "from keras.models import Sequential\n",
    "from keras import layers\n",
    "from keras.optimizers import RMSprop\n",
    "\n",
    "gru_drop_model = Sequential()\n",
    "gru_drop_model.add(layers.GRU(32,\n",
    "                     dropout=0.2,\n",
    "                     recurrent_dropout=0.2,\n",
    "                     input_shape=(None, float_data.shape[-1])))\n",
    "gru_drop_model.add(layers.Dense(1))\n",
    "\n",
    "gru_drop_model.compile(optimizer=RMSprop(), loss='mae')\n",
    "gru_drop_model.summary()\n",
    "gru_loss_history_2 = gru_drop_model.fit_generator(train_gen,\n",
    "                                              steps_per_epoch=500,\n",
    "                                              epochs=40,\n",
    "                                              validation_data=val_gen,\n",
    "                                              validation_steps=val_steps)"
   ]
  },
  {
   "cell_type": "code",
   "execution_count": 10,
   "metadata": {},
   "outputs": [
    {
     "data": {
      "image/png": "[encoded data removed]",
      "text/plain": [
       "<Figure size 720x360 with 1 Axes>"
      ]
     },
     "metadata": {
      "needs_background": "light"
     },
     "output_type": "display_data"
    }
   ],
   "source": [
    "ts_tra_loss = gru_loss_history_2.history['loss']\n",
    "ts_val_loss = gru_loss_history_2.history['val_loss']\n",
    "\n",
    "ts_in_epochs = np.arange(0, len(ts_tra_loss))\n",
    "fig = plt.figure(figsize=(10, 5))\n",
    "\n",
    "plt.plot(ts_in_epochs, ts_tra_loss, 's-', color=\"k\", label='Training loss')\n",
    "plt.plot(ts_in_epochs, ts_val_loss, '^-', color=\"b\", label='Validation loss')\n",
    "\n",
    "ts_xlabels = np.arange(0, len(ts_in_epochs), 5)\n",
    "plt.xticks(ts_xlabels, ts_xlabels, fontsize=14)\n",
    "\n",
    "plt.xlabel(\"Epochs\", axis_font)\n",
    "plt.ylabel(\"Losses\", axis_font)\n",
    "plt.legend(ncol=2, frameon=False, fontsize=14)\n",
    "\n",
    "plt.show()"
   ]
  },
  {
   "cell_type": "markdown",
   "metadata": {},
   "source": [
    "### 3. Stacking GRU layers"
   ]
  },
  {
   "cell_type": "code",
   "execution_count": 11,
   "metadata": {},
   "outputs": [
    {
     "name": "stdout",
     "output_type": "stream",
     "text": [
      "Epoch 1/40\n",
      "500/500 [==============================] - 200s 400ms/step - loss: 0.3376 - val_loss: 0.2778\n",
      "Epoch 2/40\n",
      "500/500 [==============================] - 197s 393ms/step - loss: 0.3133 - val_loss: 0.2709\n",
      "Epoch 3/40\n",
      "500/500 [==============================] - 199s 398ms/step - loss: 0.3073 - val_loss: 0.2676\n",
      "Epoch 4/40\n",
      "500/500 [==============================] - 198s 396ms/step - loss: 0.3027 - val_loss: 0.2678\n",
      "Epoch 5/40\n",
      "500/500 [==============================] - 197s 394ms/step - loss: 0.2968 - val_loss: 0.2704\n",
      "Epoch 6/40\n",
      "500/500 [==============================] - 198s 397ms/step - loss: 0.2946 - val_loss: 0.2717\n",
      "Epoch 7/40\n",
      "500/500 [==============================] - 199s 397ms/step - loss: 0.2907 - val_loss: 0.2688\n",
      "Epoch 8/40\n",
      "500/500 [==============================] - 198s 395ms/step - loss: 0.2884 - val_loss: 0.2675\n",
      "Epoch 9/40\n",
      "500/500 [==============================] - 196s 392ms/step - loss: 0.2882 - val_loss: 0.2759\n",
      "Epoch 10/40\n",
      "500/500 [==============================] - 198s 396ms/step - loss: 0.2842 - val_loss: 0.2779\n",
      "Epoch 11/40\n",
      "500/500 [==============================] - 198s 395ms/step - loss: 0.2819 - val_loss: 0.2703\n",
      "Epoch 12/40\n",
      "500/500 [==============================] - 196s 392ms/step - loss: 0.2823 - val_loss: 0.2720\n",
      "Epoch 13/40\n",
      "500/500 [==============================] - 198s 396ms/step - loss: 0.2804 - val_loss: 0.2718\n",
      "Epoch 14/40\n",
      "500/500 [==============================] - 198s 396ms/step - loss: 0.2775 - val_loss: 0.2677\n",
      "Epoch 15/40\n",
      "500/500 [==============================] - 197s 393ms/step - loss: 0.2766 - val_loss: 0.2655\n",
      "Epoch 16/40\n",
      "500/500 [==============================] - 198s 396ms/step - loss: 0.2741 - val_loss: 0.2653\n",
      "Epoch 17/40\n",
      "500/500 [==============================] - 198s 396ms/step - loss: 0.2716 - val_loss: 0.2672\n",
      "Epoch 18/40\n",
      "500/500 [==============================] - 198s 396ms/step - loss: 0.2704 - val_loss: 0.2720\n",
      "Epoch 19/40\n",
      "500/500 [==============================] - 198s 395ms/step - loss: 0.2704 - val_loss: 0.2662\n",
      "Epoch 20/40\n",
      "500/500 [==============================] - 202s 405ms/step - loss: 0.2664 - val_loss: 0.2692\n",
      "Epoch 21/40\n",
      "500/500 [==============================] - 202s 405ms/step - loss: 0.2666 - val_loss: 0.2720\n",
      "Epoch 22/40\n",
      "500/500 [==============================] - 203s 405ms/step - loss: 0.2654 - val_loss: 0.2695\n",
      "Epoch 23/40\n",
      "500/500 [==============================] - 203s 405ms/step - loss: 0.2645 - val_loss: 0.2756\n",
      "Epoch 24/40\n",
      "500/500 [==============================] - 203s 405ms/step - loss: 0.2631 - val_loss: 0.2711\n",
      "Epoch 25/40\n",
      "500/500 [==============================] - 203s 405ms/step - loss: 0.2636 - val_loss: 0.2695\n",
      "Epoch 26/40\n",
      "500/500 [==============================] - 202s 403ms/step - loss: 0.2615 - val_loss: 0.2743\n",
      "Epoch 27/40\n",
      "500/500 [==============================] - 200s 400ms/step - loss: 0.2603 - val_loss: 0.2921\n",
      "Epoch 28/40\n",
      "500/500 [==============================] - 201s 402ms/step - loss: 0.2604 - val_loss: 0.2703\n",
      "Epoch 29/40\n",
      "500/500 [==============================] - 203s 406ms/step - loss: 0.2574 - val_loss: 0.2782\n",
      "Epoch 30/40\n",
      "500/500 [==============================] - 203s 406ms/step - loss: 0.2581 - val_loss: 0.2717\n",
      "Epoch 31/40\n",
      "500/500 [==============================] - 204s 407ms/step - loss: 0.2573 - val_loss: 0.2710\n",
      "Epoch 32/40\n",
      "500/500 [==============================] - 204s 407ms/step - loss: 0.2574 - val_loss: 0.2721\n",
      "Epoch 33/40\n",
      "500/500 [==============================] - 204s 407ms/step - loss: 0.2559 - val_loss: 0.2729\n",
      "Epoch 34/40\n",
      "500/500 [==============================] - 203s 407ms/step - loss: 0.2541 - val_loss: 0.2768\n",
      "Epoch 35/40\n",
      "500/500 [==============================] - 204s 408ms/step - loss: 0.2542 - val_loss: 0.2745\n",
      "Epoch 36/40\n",
      "500/500 [==============================] - 200s 399ms/step - loss: 0.2539 - val_loss: 0.2787\n",
      "Epoch 37/40\n",
      "500/500 [==============================] - 201s 403ms/step - loss: 0.2528 - val_loss: 0.2728\n",
      "Epoch 38/40\n",
      "500/500 [==============================] - 203s 406ms/step - loss: 0.2533 - val_loss: 0.2723\n",
      "Epoch 39/40\n",
      "500/500 [==============================] - 203s 405ms/step - loss: 0.2510 - val_loss: 0.2774\n",
      "Epoch 40/40\n",
      "500/500 [==============================] - 203s 407ms/step - loss: 0.2518 - val_loss: 0.2743\n"
     ]
    }
   ],
   "source": [
    "# stacking recurrent layers\n",
    "\n",
    "from keras.models import Sequential\n",
    "from keras import layers\n",
    "from keras.optimizers import RMSprop\n",
    "\n",
    "stack_gru_drop_model = Sequential()\n",
    "stack_gru_drop_model.add(layers.GRU(32,\n",
    "                     dropout=0.1,\n",
    "                     recurrent_dropout=0.5,\n",
    "                     return_sequences=True,\n",
    "                     input_shape=(None, float_data.shape[-1])))\n",
    "stack_gru_drop_model.add(layers.GRU(64, activation='relu',\n",
    "                     dropout=0.1, \n",
    "                     recurrent_dropout=0.5))\n",
    "stack_gru_drop_model.add(layers.Dense(1))\n",
    "\n",
    "stack_gru_drop_model.compile(optimizer=RMSprop(), loss='mae')\n",
    "gru_loss_history_3 = stack_gru_drop_model.fit_generator(train_gen,\n",
    "                                                  steps_per_epoch=500,\n",
    "                                                  epochs=40,\n",
    "                                                  validation_data=val_gen,\n",
    "                                                  validation_steps=val_steps)"
   ]
  },
  {
   "cell_type": "code",
   "execution_count": 12,
   "metadata": {},
   "outputs": [
    {
     "data": {
      "image/png": "[encoded data removed]",
      "text/plain": [
       "<Figure size 720x360 with 1 Axes>"
      ]
     },
     "metadata": {
      "needs_background": "light"
     },
     "output_type": "display_data"
    }
   ],
   "source": [
    "ts_tra_loss = gru_loss_history_3.history['loss']\n",
    "ts_val_loss = gru_loss_history_3.history['val_loss']\n",
    "\n",
    "ts_in_epochs = np.arange(0, len(ts_tra_loss))\n",
    "fig = plt.figure(figsize=(10, 5))\n",
    "\n",
    "plt.plot(ts_in_epochs, ts_tra_loss, 's-', color=\"k\", label='Training loss')\n",
    "plt.plot(ts_in_epochs, ts_val_loss, '^-', color=\"b\", label='Validation loss')\n",
    "\n",
    "ts_xlabels = np.arange(0, len(ts_in_epochs), 5)\n",
    "plt.xticks(ts_xlabels, ts_xlabels, fontsize=14)\n",
    "\n",
    "plt.xlabel(\"Epochs\", axis_font)\n",
    "plt.ylabel(\"Losses\", axis_font)\n",
    "plt.legend(ncol=2, frameon=False, fontsize=14)\n",
    "\n",
    "plt.show()"
   ]
  },
  {
   "cell_type": "code",
   "execution_count": 13,
   "metadata": {},
   "outputs": [
    {
     "name": "stdout",
     "output_type": "stream",
     "text": [
      "INFO: GRU: 0.305\n",
      "INFO: GRU with drop: 0.280\n",
      "INFO: Stack GRUs with drop: 0.282\n"
     ]
    }
   ],
   "source": [
    "fo_gru_model = gru_model.evaluate_generator(test_gen, test_steps)\n",
    "print(\"INFO: GRU: %5.3f\" %fo_gru_model)\n",
    "fo_gru_model = gru_drop_model.evaluate_generator(test_gen, test_steps)\n",
    "print(\"INFO: GRU with drop: %5.3f\" %fo_gru_model)\n",
    "fo_gru_model = stack_gru_drop_model.evaluate_generator(test_gen, test_steps)\n",
    "print(\"INFO: Stack GRUs with drop: %5.3f\" %fo_gru_model)"
   ]
  },
  {
   "cell_type": "markdown",
   "metadata": {},
   "source": [
    "### Summary\n",
    "\n",
    "* GRU achieved ~0.26 loss on validation dataset (0.31 on test set) but the model is affected by overfitting. \n",
    "* With drop out including recurrent dropout, GRU showed a covergence between training loss and validation loss after 30 epochs. The performance on test dataset was slightly improved.\n",
    "* Multi-layer GRUs also showed similar performance (0.28) on test dataset as GRU with dropout. For few epochs between 15 to 25, the loss values are similar but they are again diverged with increasing epochs."
   ]
  },
  {
   "cell_type": "markdown",
   "metadata": {},
   "source": [
    "### Can good fit model be generated?"
   ]
  }
 ],
 "metadata": {
  "kernelspec": {
   "display_name": "Python 3",
   "language": "python",
   "name": "python3"
  },
  "language_info": {
   "codemirror_mode": {
    "name": "ipython",
    "version": 3
   },
   "file_extension": ".py",
   "mimetype": "text/x-python",
   "name": "python",
   "nbconvert_exporter": "python",
   "pygments_lexer": "ipython3",
   "version": "3.6.0"
  }
 },
 "nbformat": 4,
 "nbformat_minor": 2
}
