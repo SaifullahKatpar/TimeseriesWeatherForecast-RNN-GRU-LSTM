{
 "cells": [
  {
   "cell_type": "markdown",
   "metadata": {},
   "source": [
    "# Recurrent Nerual Network for weather forecast\n",
    "\n",
    "Some of interesting models, which are listed below, from the book, **Deep Learning with Python by Francois Chollet** were taken.\n",
    "\n",
    "* Gated Recurrent Unit (GRU)\n",
    "* GRU with dropouts \n",
    "* Stacking GRU layers"
   ]
  },
  {
   "cell_type": "code",
   "execution_count": 1,
   "metadata": {},
   "outputs": [
    {
     "name": "stderr",
     "output_type": "stream",
     "text": [
      "Using TensorFlow backend.\n"
     ]
    },
    {
     "data": {
      "text/plain": [
       "'2.2.4'"
      ]
     },
     "execution_count": 1,
     "metadata": {},
     "output_type": "execute_result"
    }
   ],
   "source": [
    "import os\n",
    "import numpy as np\n",
    "\n",
    "import keras\n",
    "keras.__version__"
   ]
  },
  {
   "cell_type": "code",
   "execution_count": 2,
   "metadata": {},
   "outputs": [],
   "source": [
    "%matplotlib inline\n",
    "import matplotlib as mpl\n",
    "import matplotlib.pyplot as plt\n",
    "import matplotlib.colors as colors\n",
    "\n",
    "import seaborn as sns\n",
    "\n",
    "mpl.rc('axes', labelsize=14)\n",
    "mpl.rc('xtick', labelsize=12)\n",
    "mpl.rc('ytick', labelsize=12)\n",
    "\n",
    "font      = {'family':'arial', 'style':'normal', 'size':18}\n",
    "axis_font = {'family':'arial', 'style':'normal', 'size':18}\n",
    "plt.rc('font', **font)"
   ]
  },
  {
   "cell_type": "markdown",
   "metadata": {},
   "source": [
    "### Data preparation\n",
    "\n",
    "* Data: [jena_climate](https://s3.amazonaws.com/keras-datasets/jena_climate_2009_2016.csv.zip)\n",
    "\n",
    "* This step primarily contains following steps:\n",
    "    1. Data parsing\n",
    "    2. Normalization\n",
    "    3. Data generation for modeling"
   ]
  },
  {
   "cell_type": "markdown",
   "metadata": {},
   "source": [
    "### 1. Loading the downloaded data into numpy array"
   ]
  },
  {
   "cell_type": "code",
   "execution_count": 3,
   "metadata": {},
   "outputs": [
    {
     "name": "stdout",
     "output_type": "stream",
     "text": [
      "INFO: # of columns: 15\n",
      "INFO: \"Date Time\", \"p (mbar)\", \"T (degC)\", \"Tpot (K)\", \"Tdew (degC)\", \"rh (%)\", \"VPmax (mbar)\", \"VPact (mbar)\", \"VPdef (mbar)\", \"sh (g/kg)\", \"H2OC (mmol/mol)\", \"rho (g/m**3)\", \"wv (m/s)\", \"max. wv (m/s)\", \"wd (deg)\"\n",
      "INFO: array shape (420552, 14)\n"
     ]
    }
   ],
   "source": [
    "data_dir = '../data'\n",
    "fname = os.path.join(data_dir, 'jena_climate_2009_2016.csv')\n",
    "\n",
    "f = open(fname)\n",
    "data = f.read()\n",
    "f.close()\n",
    "\n",
    "lines = data.split('\\n')\n",
    "header = lines[0].split(',')\n",
    "lines = lines[1:]\n",
    "\n",
    "print(\"INFO: # of columns: {}\".format(len(header)))\n",
    "print(\"INFO: {}\".format(\", \".join(header)))\n",
    "\n",
    "float_data = np.zeros((len(lines), len(header) - 1))\n",
    "for i, line in enumerate(lines):\n",
    "    values = [float(x) for x in line.split(',')[1:]]\n",
    "    #print(\"Coding: \", float_data.shape, len(values))\n",
    "    float_data[i, :len(values)] = values\n",
    "\n",
    "print(\"INFO: array shape {}\".format(float_data.shape))"
   ]
  },
  {
   "cell_type": "markdown",
   "metadata": {},
   "source": [
    "### 2. Normalizing the data"
   ]
  },
  {
   "cell_type": "code",
   "execution_count": 4,
   "metadata": {},
   "outputs": [],
   "source": [
    "mean = float_data[:200000].mean(axis=0)\n",
    "float_data -= mean\n",
    "\n",
    "std = float_data[:200000].std(axis=0)\n",
    "float_data /= std"
   ]
  },
  {
   "cell_type": "markdown",
   "metadata": {},
   "source": [
    "### 3. Creating generator for fitting Keras model"
   ]
  },
  {
   "cell_type": "code",
   "execution_count": 5,
   "metadata": {},
   "outputs": [],
   "source": [
    "def generator(data, lookback, delay, min_index, max_index,\n",
    "              shuffle=False, batch_size=128, step=6):\n",
    "    if max_index is None:\n",
    "        max_index = len(data) - delay - 1\n",
    "    i = min_index + lookback\n",
    "    while 1:\n",
    "        if shuffle:\n",
    "            rows = np.random.randint(\n",
    "                min_index + lookback, max_index, size=batch_size)\n",
    "        else:\n",
    "            if i + batch_size >= max_index:\n",
    "                i = min_index + lookback\n",
    "            rows = np.arange(i, min(i + batch_size, max_index))\n",
    "            i += len(rows)\n",
    "\n",
    "        samples = np.zeros((len(rows),\n",
    "                           lookback // step,\n",
    "                           data.shape[-1]))\n",
    "        targets = np.zeros((len(rows),))\n",
    "        for j, row in enumerate(rows):\n",
    "            indices = range(rows[j] - lookback, rows[j], step)\n",
    "            samples[j] = data[indices]\n",
    "            targets[j] = data[rows[j] + delay][1]\n",
    "        yield samples, targets"
   ]
  },
  {
   "cell_type": "code",
   "execution_count": 6,
   "metadata": {},
   "outputs": [],
   "source": [
    "lookback = 1440\n",
    "step = 6\n",
    "delay = 144\n",
    "batch_size = 128\n",
    "\n",
    "train_gen = generator(float_data,\n",
    "                      lookback=lookback,\n",
    "                      delay=delay,\n",
    "                      min_index=0,\n",
    "                      max_index=200000,\n",
    "                      shuffle=True,\n",
    "                      step=step, \n",
    "                      batch_size=batch_size)\n",
    "val_gen = generator(float_data,\n",
    "                    lookback=lookback,\n",
    "                    delay=delay,\n",
    "                    min_index=200001,\n",
    "                    max_index=300000,\n",
    "                    step=step,\n",
    "                    batch_size=batch_size)\n",
    "test_gen = generator(float_data,\n",
    "                     lookback=lookback,\n",
    "                     delay=delay,\n",
    "                     min_index=300001,\n",
    "                     max_index=None,\n",
    "                     step=step,\n",
    "                     batch_size=batch_size)\n",
    "\n",
    "# This is how many steps to draw from `val_gen`\n",
    "# in order to see the whole validation set:\n",
    "val_steps = (300000 - 200001 - lookback) // batch_size\n",
    "\n",
    "# This is how many steps to draw from `test_gen`\n",
    "# in order to see the whole test set:\n",
    "test_steps = (len(float_data) - 300001 - lookback) // batch_size"
   ]
  },
  {
   "cell_type": "markdown",
   "metadata": {},
   "source": [
    "### Keras Models\n",
    "\n",
    "1. Gated Recurrent Unit (GRU)\n",
    "2. GRU with dropouts \n",
    "3. Stacking GRU layers"
   ]
  },
  {
   "cell_type": "markdown",
   "metadata": {},
   "source": [
    "### 1. Gated Recurrent Unit (GRU)"
   ]
  },
  {
   "cell_type": "code",
   "execution_count": 7,
   "metadata": {},
   "outputs": [
    {
     "name": "stdout",
     "output_type": "stream",
     "text": [
      "WARNING:tensorflow:From /Library/Frameworks/Python.framework/Versions/3.6/lib/python3.6/site-packages/tensorflow/python/framework/op_def_library.py:263: colocate_with (from tensorflow.python.framework.ops) is deprecated and will be removed in a future version.\n",
      "Instructions for updating:\n",
      "Colocations handled automatically by placer.\n",
      "_________________________________________________________________\n",
      "Layer (type)                 Output Shape              Param #   \n",
      "=================================================================\n",
      "gru_1 (GRU)                  (None, 32)                4512      \n",
      "_________________________________________________________________\n",
      "dense_1 (Dense)              (None, 1)                 33        \n",
      "=================================================================\n",
      "Total params: 4,545\n",
      "Trainable params: 4,545\n",
      "Non-trainable params: 0\n",
      "_________________________________________________________________\n",
      "WARNING:tensorflow:From /Library/Frameworks/Python.framework/Versions/3.6/lib/python3.6/site-packages/tensorflow/python/ops/math_ops.py:3066: to_int32 (from tensorflow.python.ops.math_ops) is deprecated and will be removed in a future version.\n",
      "Instructions for updating:\n",
      "Use tf.cast instead.\n",
      "Epoch 1/20\n",
      "500/500 [==============================] - 132s 263ms/step - loss: 0.1540 - mean_squared_error: 0.1540 - val_loss: 0.1202 - val_mean_squared_error: 0.1202\n",
      "Epoch 2/20\n",
      "500/500 [==============================] - 114s 228ms/step - loss: 0.1304 - mean_squared_error: 0.1304 - val_loss: 0.1194 - val_mean_squared_error: 0.1194\n",
      "Epoch 3/20\n",
      "500/500 [==============================] - 113s 227ms/step - loss: 0.1253 - mean_squared_error: 0.1253 - val_loss: 0.1152 - val_mean_squared_error: 0.1152\n",
      "Epoch 4/20\n",
      "500/500 [==============================] - 102s 204ms/step - loss: 0.1219 - mean_squared_error: 0.1219 - val_loss: 0.1149 - val_mean_squared_error: 0.1149\n",
      "Epoch 5/20\n",
      "500/500 [==============================] - 102s 204ms/step - loss: 0.1157 - mean_squared_error: 0.1157 - val_loss: 0.1179 - val_mean_squared_error: 0.1179\n",
      "Epoch 6/20\n",
      "500/500 [==============================] - 103s 206ms/step - loss: 0.1110 - mean_squared_error: 0.1110 - val_loss: 0.1199 - val_mean_squared_error: 0.1199\n",
      "Epoch 7/20\n",
      "500/500 [==============================] - 102s 204ms/step - loss: 0.1068 - mean_squared_error: 0.1068 - val_loss: 0.1183 - val_mean_squared_error: 0.1183\n",
      "Epoch 8/20\n",
      "500/500 [==============================] - 101s 203ms/step - loss: 0.1038 - mean_squared_error: 0.1038 - val_loss: 0.1231 - val_mean_squared_error: 0.1231\n",
      "Epoch 9/20\n",
      "500/500 [==============================] - 101s 202ms/step - loss: 0.0987 - mean_squared_error: 0.0987 - val_loss: 0.1315 - val_mean_squared_error: 0.1315\n",
      "Epoch 10/20\n",
      "500/500 [==============================] - 102s 203ms/step - loss: 0.0950 - mean_squared_error: 0.0950 - val_loss: 0.1211 - val_mean_squared_error: 0.1211\n",
      "Epoch 11/20\n",
      "500/500 [==============================] - 102s 204ms/step - loss: 0.0909 - mean_squared_error: 0.0909 - val_loss: 0.1264 - val_mean_squared_error: 0.1264\n",
      "Epoch 12/20\n",
      "500/500 [==============================] - 101s 202ms/step - loss: 0.0864 - mean_squared_error: 0.0864 - val_loss: 0.1315 - val_mean_squared_error: 0.1315\n",
      "Epoch 13/20\n",
      "500/500 [==============================] - 100s 200ms/step - loss: 0.0832 - mean_squared_error: 0.0832 - val_loss: 0.1324 - val_mean_squared_error: 0.1324\n",
      "Epoch 14/20\n",
      "500/500 [==============================] - 101s 202ms/step - loss: 0.0801 - mean_squared_error: 0.0801 - val_loss: 0.1359 - val_mean_squared_error: 0.1359\n",
      "Epoch 15/20\n",
      "500/500 [==============================] - 100s 200ms/step - loss: 0.0783 - mean_squared_error: 0.0783 - val_loss: 0.1381 - val_mean_squared_error: 0.1381\n",
      "Epoch 16/20\n",
      "500/500 [==============================] - 100s 201ms/step - loss: 0.0751 - mean_squared_error: 0.0751 - val_loss: 0.1483 - val_mean_squared_error: 0.1483\n",
      "Epoch 17/20\n",
      "500/500 [==============================] - 101s 201ms/step - loss: 0.0740 - mean_squared_error: 0.0740 - val_loss: 0.1496 - val_mean_squared_error: 0.1496\n",
      "Epoch 18/20\n",
      "500/500 [==============================] - 100s 200ms/step - loss: 0.0709 - mean_squared_error: 0.0709 - val_loss: 0.1562 - val_mean_squared_error: 0.1562\n",
      "Epoch 19/20\n",
      "500/500 [==============================] - 106s 212ms/step - loss: 0.0694 - mean_squared_error: 0.0694 - val_loss: 0.1531 - val_mean_squared_error: 0.1531\n",
      "Epoch 20/20\n",
      "500/500 [==============================] - 107s 213ms/step - loss: 0.0677 - mean_squared_error: 0.0677 - val_loss: 0.1617 - val_mean_squared_error: 0.1617\n"
     ]
    }
   ],
   "source": [
    "from keras.models import Sequential\n",
    "from keras import layers\n",
    "from keras.optimizers import RMSprop\n",
    "\n",
    "gru_model = Sequential()\n",
    "gru_model.add(layers.GRU(32, input_shape=(None, float_data.shape[-1])))\n",
    "gru_model.add(layers.Dense(1))\n",
    "\n",
    "gru_model.compile(optimizer=RMSprop(), loss='mse', metrics=['mse'])\n",
    "gru_model.summary()\n",
    "gru_loss_history_1 = gru_model.fit_generator(train_gen,\n",
    "                                          steps_per_epoch=500,\n",
    "                                          epochs=20,\n",
    "                                          validation_data=val_gen,\n",
    "                                          validation_steps=val_steps)"
   ]
  },
  {
   "cell_type": "code",
   "execution_count": 8,
   "metadata": {},
   "outputs": [
    {
     "data": {
      "image/png": "[encoded data removed]",
      "text/plain": [
       "<Figure size 720x360 with 1 Axes>"
      ]
     },
     "metadata": {
      "needs_background": "light"
     },
     "output_type": "display_data"
    }
   ],
   "source": [
    "ts_tra_loss = gru_loss_history_1.history['loss']\n",
    "ts_val_loss = gru_loss_history_1.history['val_loss']\n",
    "\n",
    "ts_in_epochs = np.arange(0, len(ts_tra_loss))\n",
    "fig = plt.figure(figsize=(10, 5))\n",
    "\n",
    "plt.plot(ts_in_epochs, ts_tra_loss, 's-', color=\"k\", label='Training loss')\n",
    "plt.plot(ts_in_epochs, ts_val_loss, '^-', color=\"b\", label='Validation loss')\n",
    "\n",
    "ts_xlabels = np.arange(0, len(ts_in_epochs), 5)\n",
    "plt.xticks(ts_xlabels, ts_xlabels, fontsize=14)\n",
    "\n",
    "plt.xlabel(\"Epochs\", axis_font)\n",
    "plt.ylabel(\"Losses\", axis_font)\n",
    "plt.legend(ncol=2, frameon=False, fontsize=14)\n",
    "\n",
    "plt.show()"
   ]
  },
  {
   "cell_type": "markdown",
   "metadata": {},
   "source": [
    "### 2. GRU with dropouts "
   ]
  },
  {
   "cell_type": "code",
   "execution_count": 9,
   "metadata": {},
   "outputs": [
    {
     "name": "stdout",
     "output_type": "stream",
     "text": [
      "WARNING:tensorflow:From /Library/Frameworks/Python.framework/Versions/3.6/lib/python3.6/site-packages/keras/backend/tensorflow_backend.py:3445: calling dropout (from tensorflow.python.ops.nn_ops) with keep_prob is deprecated and will be removed in a future version.\n",
      "Instructions for updating:\n",
      "Please use `rate` instead of `keep_prob`. Rate should be set to `rate = 1 - keep_prob`.\n",
      "_________________________________________________________________\n",
      "Layer (type)                 Output Shape              Param #   \n",
      "=================================================================\n",
      "gru_2 (GRU)                  (None, 32)                4512      \n",
      "_________________________________________________________________\n",
      "dense_2 (Dense)              (None, 1)                 33        \n",
      "=================================================================\n",
      "Total params: 4,545\n",
      "Trainable params: 4,545\n",
      "Non-trainable params: 0\n",
      "_________________________________________________________________\n",
      "Epoch 1/40\n",
      "500/500 [==============================] - 119s 237ms/step - loss: 0.1857 - mean_squared_error: 0.1857 - val_loss: 0.1220 - val_mean_squared_error: 0.1220\n",
      "Epoch 2/40\n",
      "500/500 [==============================] - 118s 235ms/step - loss: 0.1612 - mean_squared_error: 0.1612 - val_loss: 0.1198 - val_mean_squared_error: 0.1198\n",
      "Epoch 3/40\n",
      "500/500 [==============================] - 120s 241ms/step - loss: 0.1544 - mean_squared_error: 0.1544 - val_loss: 0.1211 - val_mean_squared_error: 0.1211\n",
      "Epoch 4/40\n",
      "500/500 [==============================] - 122s 244ms/step - loss: 0.1487 - mean_squared_error: 0.1487 - val_loss: 0.1179 - val_mean_squared_error: 0.1179\n",
      "Epoch 5/40\n",
      "500/500 [==============================] - 117s 234ms/step - loss: 0.1471 - mean_squared_error: 0.1471 - val_loss: 0.1179 - val_mean_squared_error: 0.1179\n",
      "Epoch 6/40\n",
      "500/500 [==============================] - 116s 232ms/step - loss: 0.1443 - mean_squared_error: 0.1443 - val_loss: 0.1225 - val_mean_squared_error: 0.1225\n",
      "Epoch 7/40\n",
      "500/500 [==============================] - 118s 236ms/step - loss: 0.1396 - mean_squared_error: 0.1396 - val_loss: 0.1178 - val_mean_squared_error: 0.1178\n",
      "Epoch 8/40\n",
      "500/500 [==============================] - 133s 266ms/step - loss: 0.1410 - mean_squared_error: 0.1410 - val_loss: 0.1163 - val_mean_squared_error: 0.1163\n",
      "Epoch 9/40\n",
      "500/500 [==============================] - 116s 232ms/step - loss: 0.1406 - mean_squared_error: 0.1406 - val_loss: 0.1202 - val_mean_squared_error: 0.1202\n",
      "Epoch 10/40\n",
      "500/500 [==============================] - 118s 237ms/step - loss: 0.1374 - mean_squared_error: 0.1374 - val_loss: 0.1179 - val_mean_squared_error: 0.1179\n",
      "Epoch 11/40\n",
      "500/500 [==============================] - 115s 229ms/step - loss: 0.1353 - mean_squared_error: 0.1353 - val_loss: 0.1164 - val_mean_squared_error: 0.1164\n",
      "Epoch 12/40\n",
      "500/500 [==============================] - 114s 228ms/step - loss: 0.1344 - mean_squared_error: 0.1344 - val_loss: 0.1164 - val_mean_squared_error: 0.1164\n",
      "Epoch 13/40\n",
      "500/500 [==============================] - 115s 230ms/step - loss: 0.1338 - mean_squared_error: 0.1338 - val_loss: 0.1216 - val_mean_squared_error: 0.1216\n",
      "Epoch 14/40\n",
      "500/500 [==============================] - 115s 230ms/step - loss: 0.1335 - mean_squared_error: 0.1335 - val_loss: 0.1195 - val_mean_squared_error: 0.1195\n",
      "Epoch 15/40\n",
      "500/500 [==============================] - 114s 227ms/step - loss: 0.1303 - mean_squared_error: 0.1303 - val_loss: 0.1162 - val_mean_squared_error: 0.1162\n",
      "Epoch 16/40\n",
      "500/500 [==============================] - 115s 229ms/step - loss: 0.1306 - mean_squared_error: 0.1306 - val_loss: 0.1153 - val_mean_squared_error: 0.1153\n",
      "Epoch 17/40\n",
      "500/500 [==============================] - 113s 226ms/step - loss: 0.1299 - mean_squared_error: 0.1299 - val_loss: 0.1159 - val_mean_squared_error: 0.1159\n",
      "Epoch 18/40\n",
      "500/500 [==============================] - 114s 228ms/step - loss: 0.1283 - mean_squared_error: 0.1283 - val_loss: 0.1152 - val_mean_squared_error: 0.1152\n",
      "Epoch 19/40\n",
      "500/500 [==============================] - 114s 228ms/step - loss: 0.1270 - mean_squared_error: 0.1270 - val_loss: 0.1190 - val_mean_squared_error: 0.1190\n",
      "Epoch 20/40\n",
      "500/500 [==============================] - 113s 226ms/step - loss: 0.1274 - mean_squared_error: 0.1274 - val_loss: 0.1159 - val_mean_squared_error: 0.1159\n",
      "Epoch 21/40\n",
      "500/500 [==============================] - 114s 228ms/step - loss: 0.1261 - mean_squared_error: 0.1261 - val_loss: 0.1174 - val_mean_squared_error: 0.1174\n",
      "Epoch 22/40\n",
      "500/500 [==============================] - 113s 225ms/step - loss: 0.1242 - mean_squared_error: 0.1242 - val_loss: 0.1170 - val_mean_squared_error: 0.1170\n",
      "Epoch 23/40\n",
      "500/500 [==============================] - 116s 232ms/step - loss: 0.1245 - mean_squared_error: 0.1245 - val_loss: 0.1160 - val_mean_squared_error: 0.1160\n",
      "Epoch 24/40\n",
      "500/500 [==============================] - 114s 227ms/step - loss: 0.1256 - mean_squared_error: 0.1256 - val_loss: 0.1244 - val_mean_squared_error: 0.1244\n",
      "Epoch 25/40\n",
      "500/500 [==============================] - 113s 225ms/step - loss: 0.1234 - mean_squared_error: 0.1234 - val_loss: 0.1146 - val_mean_squared_error: 0.1146\n",
      "Epoch 26/40\n",
      "500/500 [==============================] - 114s 229ms/step - loss: 0.1225 - mean_squared_error: 0.1225 - val_loss: 0.1221 - val_mean_squared_error: 0.1221\n",
      "Epoch 27/40\n",
      "500/500 [==============================] - 114s 228ms/step - loss: 0.1228 - mean_squared_error: 0.1228 - val_loss: 0.1234 - val_mean_squared_error: 0.1234\n",
      "Epoch 28/40\n",
      "500/500 [==============================] - 113s 225ms/step - loss: 0.1230 - mean_squared_error: 0.1230 - val_loss: 0.1219 - val_mean_squared_error: 0.1219\n",
      "Epoch 29/40\n",
      "500/500 [==============================] - 113s 226ms/step - loss: 0.1211 - mean_squared_error: 0.1211 - val_loss: 0.1200 - val_mean_squared_error: 0.1200\n",
      "Epoch 30/40\n",
      "500/500 [==============================] - 115s 230ms/step - loss: 0.1211 - mean_squared_error: 0.1211 - val_loss: 0.1225 - val_mean_squared_error: 0.1225\n",
      "Epoch 31/40\n",
      "500/500 [==============================] - 113s 227ms/step - loss: 0.1197 - mean_squared_error: 0.1197 - val_loss: 0.1236 - val_mean_squared_error: 0.1236\n",
      "Epoch 32/40\n",
      "500/500 [==============================] - 113s 225ms/step - loss: 0.1186 - mean_squared_error: 0.1186 - val_loss: 0.1157 - val_mean_squared_error: 0.1157\n",
      "Epoch 33/40\n",
      "500/500 [==============================] - 115s 230ms/step - loss: 0.1185 - mean_squared_error: 0.1185 - val_loss: 0.1181 - val_mean_squared_error: 0.1181\n",
      "Epoch 34/40\n",
      "500/500 [==============================] - 114s 227ms/step - loss: 0.1193 - mean_squared_error: 0.1193 - val_loss: 0.1186 - val_mean_squared_error: 0.1186\n",
      "Epoch 35/40\n",
      "500/500 [==============================] - 113s 226ms/step - loss: 0.1185 - mean_squared_error: 0.1185 - val_loss: 0.1251 - val_mean_squared_error: 0.1251\n",
      "Epoch 36/40\n",
      "500/500 [==============================] - 112s 225ms/step - loss: 0.1191 - mean_squared_error: 0.1191 - val_loss: 0.1235 - val_mean_squared_error: 0.1235\n",
      "Epoch 37/40\n",
      "500/500 [==============================] - 113s 226ms/step - loss: 0.1191 - mean_squared_error: 0.1191 - val_loss: 0.1232 - val_mean_squared_error: 0.1232\n",
      "Epoch 38/40\n",
      "500/500 [==============================] - 113s 226ms/step - loss: 0.1161 - mean_squared_error: 0.1161 - val_loss: 0.1238 - val_mean_squared_error: 0.1238\n",
      "Epoch 39/40\n",
      "500/500 [==============================] - 114s 228ms/step - loss: 0.1168 - mean_squared_error: 0.1168 - val_loss: 0.1196 - val_mean_squared_error: 0.1196\n",
      "Epoch 40/40\n",
      "500/500 [==============================] - 118s 235ms/step - loss: 0.1156 - mean_squared_error: 0.1156 - val_loss: 0.1221 - val_mean_squared_error: 0.1221\n"
     ]
    }
   ],
   "source": [
    "from keras.models import Sequential\n",
    "from keras import layers\n",
    "from keras.optimizers import RMSprop\n",
    "\n",
    "gru_drop_model = Sequential()\n",
    "gru_drop_model.add(layers.GRU(32,\n",
    "                     dropout=0.2,\n",
    "                     recurrent_dropout=0.2,\n",
    "                     input_shape=(None, float_data.shape[-1])))\n",
    "gru_drop_model.add(layers.Dense(1))\n",
    "\n",
    "gru_drop_model.compile(optimizer=RMSprop(), loss='mse', metrics=['mse'])\n",
    "gru_drop_model.summary()\n",
    "gru_loss_history_2 = gru_drop_model.fit_generator(train_gen,\n",
    "                                              steps_per_epoch=500,\n",
    "                                              epochs=40,\n",
    "                                              validation_data=val_gen,\n",
    "                                              validation_steps=val_steps)"
   ]
  },
  {
   "cell_type": "code",
   "execution_count": 10,
   "metadata": {},
   "outputs": [
    {
     "data": {
      "image/png": "[encoded data removed]",
      "text/plain": [
       "<Figure size 720x360 with 1 Axes>"
      ]
     },
     "metadata": {
      "needs_background": "light"
     },
     "output_type": "display_data"
    }
   ],
   "source": [
    "ts_tra_loss = gru_loss_history_2.history['loss']\n",
    "ts_val_loss = gru_loss_history_2.history['val_loss']\n",
    "\n",
    "ts_in_epochs = np.arange(0, len(ts_tra_loss))\n",
    "fig = plt.figure(figsize=(10, 5))\n",
    "\n",
    "plt.plot(ts_in_epochs, ts_tra_loss, 's-', color=\"k\", label='Training loss')\n",
    "plt.plot(ts_in_epochs, ts_val_loss, '^-', color=\"b\", label='Validation loss')\n",
    "\n",
    "ts_xlabels = np.arange(0, len(ts_in_epochs), 5)\n",
    "plt.xticks(ts_xlabels, ts_xlabels, fontsize=14)\n",
    "\n",
    "plt.xlabel(\"Epochs\", axis_font)\n",
    "plt.ylabel(\"Losses\", axis_font)\n",
    "plt.legend(ncol=2, frameon=False, fontsize=14)\n",
    "\n",
    "plt.show()"
   ]
  },
  {
   "cell_type": "markdown",
   "metadata": {},
   "source": [
    "### 3. Stacking GRU layers"
   ]
  },
  {
   "cell_type": "code",
   "execution_count": 11,
   "metadata": {},
   "outputs": [
    {
     "name": "stdout",
     "output_type": "stream",
     "text": [
      "Epoch 1/40\n",
      "500/500 [==============================] - 282s 563ms/step - loss: 0.1803 - mean_squared_error: 0.1803 - val_loss: 0.1293 - val_mean_squared_error: 0.1293\n",
      "Epoch 2/40\n",
      "500/500 [==============================] - 276s 552ms/step - loss: 0.1585 - mean_squared_error: 0.1585 - val_loss: 0.1206 - val_mean_squared_error: 0.1206\n",
      "Epoch 3/40\n",
      "500/500 [==============================] - 274s 549ms/step - loss: 0.1510 - mean_squared_error: 0.1510 - val_loss: 0.1197 - val_mean_squared_error: 0.1197\n",
      "Epoch 4/40\n",
      "500/500 [==============================] - 274s 548ms/step - loss: 0.1449 - mean_squared_error: 0.1449 - val_loss: 0.1174 - val_mean_squared_error: 0.1174\n",
      "Epoch 5/40\n",
      "500/500 [==============================] - 275s 550ms/step - loss: 0.1389 - mean_squared_error: 0.1389 - val_loss: 0.1174 - val_mean_squared_error: 0.1174\n",
      "Epoch 6/40\n",
      "500/500 [==============================] - 276s 552ms/step - loss: 0.1373 - mean_squared_error: 0.1373 - val_loss: 0.1143 - val_mean_squared_error: 0.1143\n",
      "Epoch 7/40\n",
      "500/500 [==============================] - 272s 543ms/step - loss: 0.1342 - mean_squared_error: 0.1342 - val_loss: 0.1173 - val_mean_squared_error: 0.1173\n",
      "Epoch 8/40\n",
      "500/500 [==============================] - 276s 552ms/step - loss: 0.1328 - mean_squared_error: 0.1328 - val_loss: 0.1150 - val_mean_squared_error: 0.1150\n",
      "Epoch 9/40\n",
      "500/500 [==============================] - 274s 547ms/step - loss: 0.1304 - mean_squared_error: 0.1304 - val_loss: 0.1140 - val_mean_squared_error: 0.1140\n",
      "Epoch 10/40\n",
      "500/500 [==============================] - 275s 550ms/step - loss: 0.1280 - mean_squared_error: 0.1280 - val_loss: 0.1125 - val_mean_squared_error: 0.1125\n",
      "Epoch 11/40\n",
      "500/500 [==============================] - 274s 547ms/step - loss: 0.1259 - mean_squared_error: 0.1259 - val_loss: 0.1210 - val_mean_squared_error: 0.1210\n",
      "Epoch 12/40\n",
      "500/500 [==============================] - 275s 549ms/step - loss: 0.1251 - mean_squared_error: 0.1251 - val_loss: 0.1174 - val_mean_squared_error: 0.1174\n",
      "Epoch 13/40\n",
      "500/500 [==============================] - 273s 546ms/step - loss: 0.1232 - mean_squared_error: 0.1232 - val_loss: 0.1138 - val_mean_squared_error: 0.1138\n",
      "Epoch 14/40\n",
      "500/500 [==============================] - 270s 540ms/step - loss: 0.1208 - mean_squared_error: 0.1208 - val_loss: 0.1157 - val_mean_squared_error: 0.1157\n",
      "Epoch 15/40\n",
      "500/500 [==============================] - 272s 544ms/step - loss: 0.1206 - mean_squared_error: 0.1206 - val_loss: 0.1183 - val_mean_squared_error: 0.1183\n",
      "Epoch 16/40\n",
      "500/500 [==============================] - 271s 541ms/step - loss: 0.1176 - mean_squared_error: 0.1176 - val_loss: 0.1151 - val_mean_squared_error: 0.1151\n",
      "Epoch 17/40\n",
      "500/500 [==============================] - 270s 541ms/step - loss: 0.1179 - mean_squared_error: 0.1179 - val_loss: 0.1173 - val_mean_squared_error: 0.1173\n",
      "Epoch 18/40\n",
      "500/500 [==============================] - 273s 546ms/step - loss: 0.1168 - mean_squared_error: 0.1168 - val_loss: 0.1161 - val_mean_squared_error: 0.1161\n",
      "Epoch 19/40\n",
      "500/500 [==============================] - 269s 537ms/step - loss: 0.1151 - mean_squared_error: 0.1151 - val_loss: 0.1179 - val_mean_squared_error: 0.1179\n",
      "Epoch 20/40\n",
      "500/500 [==============================] - 270s 539ms/step - loss: 0.1148 - mean_squared_error: 0.1148 - val_loss: 0.1177 - val_mean_squared_error: 0.1177\n",
      "Epoch 21/40\n",
      "500/500 [==============================] - 271s 543ms/step - loss: 0.1141 - mean_squared_error: 0.1141 - val_loss: 0.1169 - val_mean_squared_error: 0.1169\n",
      "Epoch 22/40\n",
      "500/500 [==============================] - 267s 534ms/step - loss: 0.1139 - mean_squared_error: 0.1139 - val_loss: 0.1191 - val_mean_squared_error: 0.1191\n",
      "Epoch 23/40\n",
      "500/500 [==============================] - 269s 537ms/step - loss: 0.1117 - mean_squared_error: 0.1117 - val_loss: 0.1233 - val_mean_squared_error: 0.1233\n",
      "Epoch 24/40\n",
      "500/500 [==============================] - 266s 533ms/step - loss: 0.1114 - mean_squared_error: 0.1114 - val_loss: 0.1242 - val_mean_squared_error: 0.1242\n",
      "Epoch 25/40\n",
      "500/500 [==============================] - 266s 532ms/step - loss: 0.1118 - mean_squared_error: 0.1118 - val_loss: 0.1189 - val_mean_squared_error: 0.1189\n",
      "Epoch 26/40\n",
      "500/500 [==============================] - 266s 532ms/step - loss: 0.1091 - mean_squared_error: 0.1091 - val_loss: 0.1220 - val_mean_squared_error: 0.1220\n",
      "Epoch 27/40\n",
      "500/500 [==============================] - 264s 529ms/step - loss: 0.1095 - mean_squared_error: 0.1095 - val_loss: 0.1281 - val_mean_squared_error: 0.1281\n",
      "Epoch 28/40\n",
      "500/500 [==============================] - 263s 527ms/step - loss: 0.1092 - mean_squared_error: 0.1092 - val_loss: 0.1260 - val_mean_squared_error: 0.1260\n",
      "Epoch 29/40\n",
      "500/500 [==============================] - 267s 534ms/step - loss: 0.1085 - mean_squared_error: 0.1085 - val_loss: 0.1275 - val_mean_squared_error: 0.1275\n",
      "Epoch 30/40\n",
      "500/500 [==============================] - 265s 529ms/step - loss: 0.1074 - mean_squared_error: 0.1074 - val_loss: 0.1214 - val_mean_squared_error: 0.1214\n",
      "Epoch 31/40\n",
      "500/500 [==============================] - 268s 536ms/step - loss: 0.1080 - mean_squared_error: 0.1080 - val_loss: 0.1201 - val_mean_squared_error: 0.1201\n",
      "Epoch 32/40\n",
      "500/500 [==============================] - 268s 536ms/step - loss: 0.1067 - mean_squared_error: 0.1067 - val_loss: 0.1298 - val_mean_squared_error: 0.1298\n",
      "Epoch 33/40\n",
      "500/500 [==============================] - 263s 527ms/step - loss: 0.1052 - mean_squared_error: 0.1052 - val_loss: 0.1413 - val_mean_squared_error: 0.1413\n",
      "Epoch 34/40\n",
      "500/500 [==============================] - 264s 528ms/step - loss: 0.1054 - mean_squared_error: 0.1054 - val_loss: 0.1188 - val_mean_squared_error: 0.1188\n",
      "Epoch 35/40\n",
      "500/500 [==============================] - 264s 529ms/step - loss: 0.1053 - mean_squared_error: 0.1053 - val_loss: 0.1209 - val_mean_squared_error: 0.1209\n",
      "Epoch 36/40\n",
      "500/500 [==============================] - 308s 616ms/step - loss: 0.1044 - mean_squared_error: 0.1044 - val_loss: 0.1197 - val_mean_squared_error: 0.1197\n",
      "Epoch 37/40\n",
      "500/500 [==============================] - 300s 599ms/step - loss: 0.1046 - mean_squared_error: 0.1046 - val_loss: 0.1253 - val_mean_squared_error: 0.1253\n",
      "Epoch 38/40\n",
      "500/500 [==============================] - 266s 532ms/step - loss: 0.1036 - mean_squared_error: 0.1036 - val_loss: 0.1311 - val_mean_squared_error: 0.1311\n",
      "Epoch 39/40\n",
      "500/500 [==============================] - 290s 581ms/step - loss: 0.1029 - mean_squared_error: 0.1029 - val_loss: 0.1235 - val_mean_squared_error: 0.1235\n",
      "Epoch 40/40\n",
      "500/500 [==============================] - 272s 543ms/step - loss: 0.1037 - mean_squared_error: 0.1037 - val_loss: 0.1225 - val_mean_squared_error: 0.1225\n"
     ]
    }
   ],
   "source": [
    "# stacking recurrent layers\n",
    "\n",
    "from keras.models import Sequential\n",
    "from keras import layers\n",
    "from keras.optimizers import RMSprop\n",
    "\n",
    "stack_gru_drop_model = Sequential()\n",
    "stack_gru_drop_model.add(layers.GRU(32,\n",
    "                     dropout=0.1,\n",
    "                     recurrent_dropout=0.5,\n",
    "                     return_sequences=True,\n",
    "                     input_shape=(None, float_data.shape[-1])))\n",
    "stack_gru_drop_model.add(layers.GRU(64, activation='relu',\n",
    "                     dropout=0.1, \n",
    "                     recurrent_dropout=0.5))\n",
    "stack_gru_drop_model.add(layers.Dense(1))\n",
    "\n",
    "stack_gru_drop_model.compile(optimizer=RMSprop(), loss='mse', metrics=['mse'])\n",
    "gru_loss_history_3 = stack_gru_drop_model.fit_generator(train_gen,\n",
    "                                                  steps_per_epoch=500,\n",
    "                                                  epochs=40,\n",
    "                                                  validation_data=val_gen,\n",
    "                                                  validation_steps=val_steps)"
   ]
  },
  {
   "cell_type": "code",
   "execution_count": 12,
   "metadata": {},
   "outputs": [
    {
     "data": {
      "image/png": "[encoded data removed]",
      "text/plain": [
       "<Figure size 720x360 with 1 Axes>"
      ]
     },
     "metadata": {
      "needs_background": "light"
     },
     "output_type": "display_data"
    }
   ],
   "source": [
    "ts_tra_loss = gru_loss_history_3.history['loss']\n",
    "ts_val_loss = gru_loss_history_3.history['val_loss']\n",
    "\n",
    "ts_in_epochs = np.arange(0, len(ts_tra_loss))\n",
    "fig = plt.figure(figsize=(10, 5))\n",
    "\n",
    "plt.plot(ts_in_epochs, ts_tra_loss, 's-', color=\"k\", label='Training loss')\n",
    "plt.plot(ts_in_epochs, ts_val_loss, '^-', color=\"b\", label='Validation loss')\n",
    "\n",
    "ts_xlabels = np.arange(0, len(ts_in_epochs), 5)\n",
    "plt.xticks(ts_xlabels, ts_xlabels, fontsize=14)\n",
    "\n",
    "plt.xlabel(\"Epochs\", axis_font)\n",
    "plt.ylabel(\"Losses\", axis_font)\n",
    "plt.legend(ncol=2, frameon=False, fontsize=14)\n",
    "\n",
    "plt.show()"
   ]
  },
  {
   "cell_type": "code",
   "execution_count": 19,
   "metadata": {},
   "outputs": [
    {
     "name": "stdout",
     "output_type": "stream",
     "text": [
      "INFO: GRU: 0.178\n",
      "INFO: GRU with drop: 0.127\n",
      "INFO: Stack GRUs with drop: 0.134\n"
     ]
    }
   ],
   "source": [
    "fo_gru_model = gru_model.evaluate_generator(test_gen, test_steps)\n",
    "print(\"INFO: GRU: %5.3f\" %fo_gru_model[0])\n",
    "fo_gru_model = gru_drop_model.evaluate_generator(test_gen, test_steps)\n",
    "print(\"INFO: GRU with drop: %5.3f\" %fo_gru_model[0])\n",
    "fo_gru_model = stack_gru_drop_model.evaluate_generator(test_gen, test_steps)\n",
    "print(\"INFO: Stack GRUs with drop: %5.3f\" %fo_gru_model[0])"
   ]
  },
  {
   "cell_type": "markdown",
   "metadata": {},
   "source": [
    "### Can good fit model be generated?"
   ]
  }
 ],
 "metadata": {
  "kernelspec": {
   "display_name": "Python 3",
   "language": "python",
   "name": "python3"
  },
  "language_info": {
   "codemirror_mode": {
    "name": "ipython",
    "version": 3
   },
   "file_extension": ".py",
   "mimetype": "text/x-python",
   "name": "python",
   "nbconvert_exporter": "python",
   "pygments_lexer": "ipython3",
   "version": "3.6.0"
  }
 },
 "nbformat": 4,
 "nbformat_minor": 2
}
